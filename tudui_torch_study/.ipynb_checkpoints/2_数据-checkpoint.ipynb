{
 "cells": [
  {
   "cell_type": "code",
   "execution_count": 3,
   "id": "7e71998e",
   "metadata": {
    "ExecuteTime": {
     "end_time": "2022-10-12T06:03:14.926110Z",
     "start_time": "2022-10-12T06:03:14.923311Z"
    }
   },
   "outputs": [],
   "source": [
    "\"\"\"\n",
    "PyTroch中如何读取数据. 加载数据. 这节课我们来讲解一下\n",
    "Pytorch中有两个类关于数据的: Dataset, DataLoader.\n",
    "\n",
    "我们需要学习, 这两个类的使用. \n",
    "\n",
    "Dataset, 是将数据整合起来, 形成数据集合, 这里是一个所有的数据集合. 有数据, 并且有对应的lable, 还会并且有对应的索引. \n",
    "Dataset: 提供一种方式取获取数据以及对应的label. 是一个数据的整体. \n",
    "\n",
    "DataLoader: 将Dataset处理成为一个一个batch大小的批量数据, 以供深度神经网络训练. \n",
    "也就是为网络提供不同的batch数据, 并且有shuffle, 也就是随机打乱, 并且小batch, 也是我们后来所谓SGD: 小批量随机梯度下降的来源. \n",
    "\n",
    "那么需要针对Datasets编写代码:\n",
    "    如何获取每一个数据及其对应的label.\n",
    "    计算总共的数据量. \n",
    "    \n",
    "如果你自己动手实现过神经网络的话, 你就知道为什么我们需要这两个了. \n",
    "我们当然需要每个数据极其对应的label了. 但是我们为什么需要计算数据总长度?, 因为只有知道总长度, 我们才可以知道数据遍历到哪里了.\n",
    "\n",
    "\n",
    "我们来做一个练习, 了解dataset是如何从数据集中读取数据集的, 以及代码是如何编写的. \n",
    "首先来看: hymenoptera数据集. 就是使用不同的类的文件夹的名字来标识不同的类别. \n",
    "\n",
    "\n",
    "\"\"\"; # 加上;表示不输出打印, 这点与matlab同理."
   ]
  },
  {
   "cell_type": "code",
   "execution_count": 8,
   "id": "99f6f87c",
   "metadata": {
    "ExecuteTime": {
     "end_time": "2022-10-12T06:19:08.571807Z",
     "start_time": "2022-10-12T06:19:08.301536Z"
    }
   },
   "outputs": [
    {
     "ename": "ModuleNotFoundError",
     "evalue": "No module named 'cv2'",
     "output_type": "error",
     "traceback": [
      "\u001b[0;31m---------------------------------------------------------------------------\u001b[0m",
      "\u001b[0;31mModuleNotFoundError\u001b[0m                       Traceback (most recent call last)",
      "Cell \u001b[0;32mIn [8], line 3\u001b[0m\n\u001b[1;32m      1\u001b[0m \u001b[38;5;66;03m# 导入包, \u001b[39;00m\n\u001b[1;32m      2\u001b[0m \u001b[38;5;28;01mfrom\u001b[39;00m \u001b[38;5;21;01mtorch\u001b[39;00m\u001b[38;5;21;01m.\u001b[39;00m\u001b[38;5;21;01mutils\u001b[39;00m\u001b[38;5;21;01m.\u001b[39;00m\u001b[38;5;21;01mdata\u001b[39;00m \u001b[38;5;28;01mimport\u001b[39;00m Dataset \u001b[38;5;66;03m# 导入数据.\u001b[39;00m\n\u001b[0;32m----> 3\u001b[0m \u001b[38;5;28;01mimport\u001b[39;00m \u001b[38;5;21;01mcv2\u001b[39;00m \u001b[38;5;28;01mas\u001b[39;00m \u001b[38;5;21;01mcv\u001b[39;00m\n\u001b[1;32m      4\u001b[0m \u001b[38;5;28;01mfrom\u001b[39;00m \u001b[38;5;21;01mPIL\u001b[39;00m \u001b[38;5;28;01mimport\u001b[39;00m Image\n",
      "\u001b[0;31mModuleNotFoundError\u001b[0m: No module named 'cv2'"
     ]
    }
   ],
   "source": [
    "# 导入包, \n",
    "from torch.utils.data import Dataset # 导入数据.\n",
    "import cv2 as cv\n",
    "from PIL import Image"
   ]
  },
  {
   "cell_type": "code",
   "execution_count": null,
   "id": "3364e89a",
   "metadata": {
    "ExecuteTime": {
     "end_time": "2022-10-12T06:19:08.573235Z",
     "start_time": "2022-10-12T06:19:08.573225Z"
    }
   },
   "outputs": [],
   "source": [
    "help(Dataset) # print help about Dataset"
   ]
  },
  {
   "cell_type": "code",
   "execution_count": null,
   "id": "927cf958",
   "metadata": {
    "ExecuteTime": {
     "end_time": "2022-10-12T06:19:08.573961Z",
     "start_time": "2022-10-12T06:19:08.573951Z"
    }
   },
   "outputs": [],
   "source": [
    "Dataset?? # 这是jupyter内建的, 一种更清晰的表达形式.\n",
    "\"\"\"\n",
    "常用的数据集分为两种, \n",
    "一种是分类的, 不同类别的数据集放在不同的文件夹中\n",
    "或者是将数据集放在一个文件夹中, 将标签放在另一个文件夹, 中间通过某种形式进行对应.\n",
    "或者是对于图片来说, 文件名就对应label. \n",
    "\n",
    "首先我们看一下Dataset:\n",
    "class Dataset(Generic[T_co]):\n",
    "    An abstract class representing a :class:`Dataset`.\n",
    "    All datasets that represent a map from keys to data samples should subclass\n",
    "    it. All subclasses should overwrite :meth:`__getitem__`, supporting fetching a\n",
    "    data sample for a given key. Subclasses could also optionally overwrite\n",
    "    :meth:`__len__`, which is expected to return the size of the dataset by many\n",
    "    :class:`~torch.utils.data.Sampler` implementations and the default options\n",
    "    of :class:`~torch.utils.data.DataLoader`.\n",
    "    \n",
    "    一个抽象类表示为Class: Dataset\n",
    "    所有的datasets(数据集)都被表示成一种从键到数据样本的映射, 并且所有的子类都应该继承它.\n",
    "    所有的子类都应该重写(overwrite)'__getitem__'方法, 该方法能够支持你fetch(抓取)数据样本, 通过一个给定的key. \n",
    "    子类应该有选择性的重写'__len__'方法, 该方法期待返回该数据集的大小. \n",
    "    \n",
    "    一个抽象类, 所有的dataset都应该继承该类, 并且所有的子类都应该重写__getitem__这个方法, 支持你能够fetch(抓取)\n",
    "    数据样本通过一个给定的key, 并且子类可以有选择的重写__len__, 该方法, 是返回该dataset的长度\n",
    "\n",
    "# 需要注意, 我们一定要重写里面的__getitem__()方法, 返回的是x和label即可\n",
    "\n",
    "\"\"\""
   ]
  },
  {
   "cell_type": "code",
   "execution_count": null,
   "id": "77f75717",
   "metadata": {
    "ExecuteTime": {
     "end_time": "2022-10-12T06:19:08.575125Z",
     "start_time": "2022-10-12T06:19:08.575116Z"
    }
   },
   "outputs": [],
   "source": [
    "# 项目实战:\n",
    "class MyData(Dataset):\n",
    "    # 编写我们自己的数据集\n",
    "    def __init__(self):\n",
    "        pass\n",
    "    \n",
    "    \n",
    "    def __getitem__(self):"
   ]
  },
  {
   "cell_type": "code",
   "execution_count": null,
   "id": "1f11bf8e",
   "metadata": {},
   "outputs": [],
   "source": []
  },
  {
   "cell_type": "code",
   "execution_count": null,
   "id": "effa86a7",
   "metadata": {},
   "outputs": [],
   "source": []
  }
 ],
 "metadata": {
  "kernelspec": {
   "display_name": "Python 3 (ipykernel)",
   "language": "python",
   "name": "python3"
  },
  "language_info": {
   "codemirror_mode": {
    "name": "ipython",
    "version": 3
   },
   "file_extension": ".py",
   "mimetype": "text/x-python",
   "name": "python",
   "nbconvert_exporter": "python",
   "pygments_lexer": "ipython3",
   "version": "3.10.6"
  },
  "latex_envs": {
   "LaTeX_envs_menu_present": true,
   "autoclose": false,
   "autocomplete": true,
   "bibliofile": "biblio.bib",
   "cite_by": "apalike",
   "current_citInitial": 1,
   "eqLabelWithNumbers": true,
   "eqNumInitial": 1,
   "hotkeys": {
    "equation": "Ctrl-E",
    "itemize": "Ctrl-I"
   },
   "labels_anchors": false,
   "latex_user_defs": false,
   "report_style_numbering": false,
   "user_envs_cfg": false
  }
 },
 "nbformat": 4,
 "nbformat_minor": 5
}
