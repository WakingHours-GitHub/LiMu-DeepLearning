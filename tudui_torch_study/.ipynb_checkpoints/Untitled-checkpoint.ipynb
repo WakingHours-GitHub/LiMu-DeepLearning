{
 "cells": [
  {
   "cell_type": "code",
   "execution_count": 1,
   "id": "69223a91",
   "metadata": {},
   "outputs": [],
   "source": [
    "import torch"
   ]
  },
  {
   "cell_type": "code",
   "execution_count": 6,
   "id": "65c5988e",
   "metadata": {},
   "outputs": [
    {
     "name": "stdout",
     "output_type": "stream",
     "text": [
      "GPU:  True\n"
     ]
    }
   ],
   "source": [
    "print(\"GPU: \", torch.cuda.is_available())\n",
    "# cuda kit, 已经可以和torch共同安装了. \n",
    "# 因此我们只需要安装显卡驱动即可. "
   ]
  },
  {
   "cell_type": "code",
   "execution_count": null,
   "id": "94df6678",
   "metadata": {},
   "outputs": [],
   "source": []
  }
 ],
 "metadata": {
  "kernelspec": {
   "display_name": "Python 3 (ipykernel)",
   "language": "python",
   "name": "python3"
  },
  "language_info": {
   "codemirror_mode": {
    "name": "ipython",
    "version": 3
   },
   "file_extension": ".py",
   "mimetype": "text/x-python",
   "name": "python",
   "nbconvert_exporter": "python",
   "pygments_lexer": "ipython3",
   "version": "3.10.6"
  }
 },
 "nbformat": 4,
 "nbformat_minor": 5
}
