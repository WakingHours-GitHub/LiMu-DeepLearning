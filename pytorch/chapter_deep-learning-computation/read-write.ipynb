{
 "cells": [
  {
   "cell_type": "code",
   "execution_count": 1,
   "id": "22335a13",
   "metadata": {},
   "outputs": [
    {
     "data": {
      "text/plain": [
       "'\\n读写文件, 也就是我们训练好的东西我们如何读取下来. \\n'"
      ]
     },
     "execution_count": 1,
     "metadata": {},
     "output_type": "execute_result"
    }
   ],
   "source": [
    "\"\"\"\n",
    "读写文件, 也就是我们训练好的东西我们如何存下来. \n",
    "\"\"\""
   ]
  },
  {
   "cell_type": "markdown",
   "id": "3e089410",
   "metadata": {
    "origin_pos": 0
   },
   "source": [
    "# 读写文件\n",
    "\n",
    "到目前为止，我们讨论了如何处理数据，\n",
    "以及如何构建、训练和测试深度学习模型。\n",
    "然而，有时我们希望保存训练的模型，\n",
    "以备将来在各种环境中使用（比如在部署中进行预测）。\n",
    "此外，当运行一个耗时较长的训练过程时，\n",
    "最佳的做法是定期保存中间结果，\n",
    "以确保在服务器电源被不小心断掉时，我们不会损失几天的计算结果。\n",
    "因此，现在是时候学习如何加载和存储权重向量和整个模型了。\n",
    "\n",
    "## (**加载和保存张量**)\n",
    "\n",
    "对于单个张量，我们可以直接调用`load`和`save`函数分别读写它们。\n",
    "这两个函数都要求我们提供一个名称，`save`要求将要保存的变量作为输入。\n"
   ]
  },
  {
   "cell_type": "code",
   "execution_count": 1,
   "id": "37d8dbd1",
   "metadata": {
    "execution": {
     "iopub.execute_input": "2022-07-31T02:32:55.803857Z",
     "iopub.status.busy": "2022-07-31T02:32:55.803417Z",
     "iopub.status.idle": "2022-07-31T02:32:56.504212Z",
     "shell.execute_reply": "2022-07-31T02:32:56.503478Z"
    },
    "origin_pos": 2,
    "tab": [
     "pytorch"
    ]
   },
   "outputs": [],
   "source": [
    "import torch\n",
    "from torch import nn\n",
    "from torch.nn import functional as F\n",
    "\n",
    "\n",
    "# 如何存一个矩阵: \n",
    "x = torch.arange(4) # arange, 长为4的向量. \n",
    "torch.save(x, 'x-file') # 存储到这个文件当中. "
   ]
  },
  {
   "cell_type": "markdown",
   "id": "baf2885d",
   "metadata": {
    "origin_pos": 4
   },
   "source": [
    "我们现在可以将存储在文件中的数据读回内存。\n"
   ]
  },
  {
   "cell_type": "code",
   "execution_count": 11,
   "id": "b80fe2ae",
   "metadata": {
    "execution": {
     "iopub.execute_input": "2022-07-31T02:32:56.507830Z",
     "iopub.status.busy": "2022-07-31T02:32:56.507438Z",
     "iopub.status.idle": "2022-07-31T02:32:56.518747Z",
     "shell.execute_reply": "2022-07-31T02:32:56.518155Z"
    },
    "origin_pos": 6,
    "tab": [
     "pytorch"
    ]
   },
   "outputs": [
    {
     "data": {
      "text/plain": [
       "tensor([0, 1, 2, 3])"
      ]
     },
     "execution_count": 11,
     "metadata": {},
     "output_type": "execute_result"
    }
   ],
   "source": [
    "x2 = torch.load('x-file')\n",
    "x2"
   ]
  },
  {
   "cell_type": "markdown",
   "id": "f68d2fa6",
   "metadata": {
    "origin_pos": 8
   },
   "source": [
    "我们可以[**存储一个张量列表，然后把它们读回内存。**]\n"
   ]
  },
  {
   "cell_type": "code",
   "execution_count": 4,
   "id": "e7b0261e",
   "metadata": {
    "execution": {
     "iopub.execute_input": "2022-07-31T02:32:56.521551Z",
     "iopub.status.busy": "2022-07-31T02:32:56.521348Z",
     "iopub.status.idle": "2022-07-31T02:32:56.528208Z",
     "shell.execute_reply": "2022-07-31T02:32:56.527619Z"
    },
    "origin_pos": 10,
    "tab": [
     "pytorch"
    ]
   },
   "outputs": [
    {
     "data": {
      "text/plain": [
       "(tensor([0, 1, 2, 3]), tensor([0., 0., 0., 0.]))"
      ]
     },
     "execution_count": 4,
     "metadata": {},
     "output_type": "execute_result"
    }
   ],
   "source": [
    "y = torch.zeros(4)\n",
    "# 我可以存一个list, \n",
    "torch.save([x, y],'x-files')\n",
    "x2, y2 = torch.load('x-files')\n",
    "(x2, y2)"
   ]
  },
  {
   "cell_type": "markdown",
   "id": "4227d24b",
   "metadata": {
    "origin_pos": 12
   },
   "source": [
    "我们甚至可以(**写入或读取从字符串映射到张量的字典**)。\n",
    "当我们要读取或写入模型中的所有权重时，这很方便。\n"
   ]
  },
  {
   "cell_type": "code",
   "execution_count": 5,
   "id": "9d62889d",
   "metadata": {
    "execution": {
     "iopub.execute_input": "2022-07-31T02:32:56.530996Z",
     "iopub.status.busy": "2022-07-31T02:32:56.530638Z",
     "iopub.status.idle": "2022-07-31T02:32:56.536985Z",
     "shell.execute_reply": "2022-07-31T02:32:56.536389Z"
    },
    "origin_pos": 14,
    "tab": [
     "pytorch"
    ]
   },
   "outputs": [
    {
     "data": {
      "text/plain": [
       "{'x': tensor([0, 1, 2, 3]), 'y': tensor([0., 0., 0., 0.])}"
      ]
     },
     "execution_count": 5,
     "metadata": {},
     "output_type": "execute_result"
    }
   ],
   "source": [
    "# 支持list, 那么支持dict也是很正常得.\n",
    "mydict = {'x': x, 'y': y}\n",
    "torch.save(mydict, 'mydict')\n",
    "mydict2 = torch.load('mydict')  # load回来还是一样的dict\n",
    "mydict2"
   ]
  },
  {
   "cell_type": "markdown",
   "id": "9b254c7b",
   "metadata": {
    "origin_pos": 16
   },
   "source": [
    "## [**加载和保存模型参数**]\n",
    "\n",
    "保存单个权重向量（或其他张量）确实有用，\n",
    "但是如果我们想保存整个模型，并在以后加载它们，\n",
    "单独保存每个向量则会变得很麻烦。\n",
    "毕竟，我们可能有数百个参数散布在各处。\n",
    "因此，深度学习框架提供了内置函数来保存和加载整个网络。\n",
    "需要注意的一个重要细节是，这将保存模型的参数而不是保存整个模型。\n",
    "例如，如果我们有一个3层多层感知机，我们需要单独指定架构。\n",
    "因为模型本身可以包含任意代码，所以模型本身难以序列化。\n",
    "因此，为了恢复模型，我们需要用代码生成架构，\n",
    "然后从磁盘加载参数。\n",
    "让我们从熟悉的多层感知机开始尝试一下。\n"
   ]
  },
  {
   "cell_type": "code",
   "execution_count": 2,
   "id": "44bdd6df",
   "metadata": {
    "execution": {
     "iopub.execute_input": "2022-07-31T02:32:56.539741Z",
     "iopub.status.busy": "2022-07-31T02:32:56.539403Z",
     "iopub.status.idle": "2022-07-31T02:32:56.545387Z",
     "shell.execute_reply": "2022-07-31T02:32:56.544765Z"
    },
    "origin_pos": 18,
    "tab": [
     "pytorch"
    ]
   },
   "outputs": [],
   "source": [
    "# 接下来是一个模型, 那么对于神经网络我们需要存储什么东西.\n",
    "# 我们只需要存储权重即可了. \n",
    "class MLP(nn.Module):\n",
    "    def __init__(self):\n",
    "        super().__init__()\n",
    "        self.hidden = nn.Linear(20, 256)\n",
    "        self.output = nn.Linear(256, 10)\n",
    "\n",
    "    def forward(self, x):\n",
    "        return self.output(F.relu(self.hidden(x)))\n",
    "\n",
    "net = MLP()\n",
    "X = torch.randn(size=(2, 20))\n",
    "Y = net(X)"
   ]
  },
  {
   "cell_type": "markdown",
   "id": "416bb902",
   "metadata": {
    "origin_pos": 20
   },
   "source": [
    "接下来，我们[**将模型的参数存储在一个叫做“mlp.params”的文件中。**]\n"
   ]
  },
  {
   "cell_type": "code",
   "execution_count": 3,
   "id": "7e3e70db",
   "metadata": {},
   "outputs": [
    {
     "data": {
      "text/plain": [
       "OrderedDict([('hidden.weight',\n",
       "              tensor([[ 0.0407,  0.1167, -0.1125,  ...,  0.1894,  0.1867,  0.1651],\n",
       "                      [ 0.1480,  0.0161,  0.1977,  ...,  0.0057, -0.1573,  0.1261],\n",
       "                      [-0.0034,  0.0498, -0.0564,  ..., -0.1037,  0.1039,  0.0650],\n",
       "                      ...,\n",
       "                      [ 0.0032,  0.1281,  0.1928,  ..., -0.0650,  0.0333, -0.1845],\n",
       "                      [ 0.2209, -0.2203, -0.0125,  ..., -0.2018,  0.0788,  0.1609],\n",
       "                      [ 0.0321,  0.2076,  0.0858,  ..., -0.0271, -0.0211,  0.0236]])),\n",
       "             ('hidden.bias',\n",
       "              tensor([-0.0855, -0.0092,  0.0866, -0.2123, -0.1979,  0.1718,  0.1930, -0.1573,\n",
       "                      -0.0988,  0.0313, -0.1935,  0.0899, -0.1359,  0.1494, -0.1968, -0.1260,\n",
       "                       0.1080,  0.1662, -0.1732, -0.0699,  0.1095,  0.1267, -0.0079,  0.2006,\n",
       "                       0.0035,  0.0108, -0.0099, -0.1218, -0.1594, -0.1826, -0.1370,  0.0426,\n",
       "                       0.1987, -0.2169,  0.0473, -0.1673, -0.0464,  0.2095, -0.1520,  0.0666,\n",
       "                      -0.0601,  0.0165,  0.1310,  0.0047, -0.1800,  0.0665,  0.0993,  0.0729,\n",
       "                      -0.1447,  0.1318,  0.0096, -0.0723, -0.0666, -0.0040,  0.1835, -0.1525,\n",
       "                       0.1272,  0.0960,  0.1390, -0.1937,  0.1223,  0.0839,  0.0630, -0.0223,\n",
       "                      -0.1782, -0.0418, -0.1442,  0.0095,  0.1774,  0.1271, -0.1428, -0.2148,\n",
       "                       0.1569,  0.0988,  0.1458,  0.0528, -0.1437, -0.0161, -0.0137, -0.1304,\n",
       "                       0.1600, -0.1550, -0.1253,  0.0168, -0.0519,  0.2111,  0.2138, -0.1938,\n",
       "                       0.0963,  0.1731, -0.0908,  0.0793,  0.0911,  0.1660, -0.0402, -0.0855,\n",
       "                       0.0588, -0.1432,  0.1851, -0.0461, -0.0250,  0.2151, -0.0100,  0.0461,\n",
       "                       0.0143, -0.0217,  0.0501,  0.1037, -0.0358, -0.0676,  0.1141, -0.0619,\n",
       "                      -0.1110, -0.2084, -0.2023, -0.1164,  0.1621,  0.1206, -0.0659,  0.1885,\n",
       "                       0.1748, -0.2031,  0.0369,  0.1874,  0.1256, -0.1724, -0.0544,  0.1029,\n",
       "                       0.1467, -0.1085, -0.1154, -0.0467, -0.0588, -0.1556,  0.1338,  0.1324,\n",
       "                       0.0484,  0.0949,  0.1450,  0.1545,  0.1634,  0.0795, -0.0478,  0.1104,\n",
       "                       0.0365, -0.1579, -0.1420,  0.2018,  0.1393, -0.0478,  0.2005,  0.0732,\n",
       "                      -0.1006,  0.1337,  0.2196, -0.1061, -0.1245, -0.1766,  0.0815,  0.2074,\n",
       "                       0.1042,  0.1009,  0.1196, -0.0111, -0.2031,  0.1181,  0.0145, -0.1479,\n",
       "                       0.2023, -0.0423, -0.1832, -0.1164, -0.1074,  0.0910, -0.1513, -0.0520,\n",
       "                       0.1686,  0.0143,  0.1814, -0.2031, -0.1350, -0.1861, -0.0070,  0.1068,\n",
       "                       0.2165,  0.1424,  0.1783, -0.0729, -0.1108,  0.1906, -0.1186,  0.1611,\n",
       "                      -0.0349, -0.1460,  0.0921, -0.2132, -0.1730,  0.1085,  0.1531, -0.1843,\n",
       "                       0.1725,  0.0564, -0.0354,  0.1729, -0.1988, -0.2039, -0.1874, -0.1862,\n",
       "                       0.0060,  0.0343, -0.1615, -0.0849, -0.0792, -0.1763,  0.1106, -0.0769,\n",
       "                      -0.1647, -0.2200,  0.0535,  0.1297,  0.0590, -0.1257,  0.1119, -0.2084,\n",
       "                      -0.1061,  0.1146,  0.0922, -0.1011, -0.1605, -0.1898, -0.0405, -0.0748,\n",
       "                       0.0526, -0.1603, -0.0251, -0.0786,  0.0575,  0.1647,  0.0452,  0.0660,\n",
       "                      -0.1832,  0.0884,  0.1488,  0.1283,  0.1695, -0.1056,  0.1006, -0.1184,\n",
       "                      -0.0180,  0.0102, -0.0878,  0.1388, -0.0888, -0.2039,  0.0635,  0.0177])),\n",
       "             ('output.weight',\n",
       "              tensor([[ 0.0545,  0.0585, -0.0175,  ...,  0.0512, -0.0441, -0.0611],\n",
       "                      [-0.0092,  0.0131, -0.0302,  ..., -0.0116,  0.0370, -0.0070],\n",
       "                      [ 0.0112,  0.0088,  0.0413,  ..., -0.0107, -0.0230,  0.0282],\n",
       "                      ...,\n",
       "                      [ 0.0429, -0.0078,  0.0268,  ..., -0.0425,  0.0523, -0.0542],\n",
       "                      [-0.0126, -0.0327,  0.0112,  ..., -0.0333, -0.0346, -0.0388],\n",
       "                      [-0.0283,  0.0463,  0.0433,  ...,  0.0261,  0.0211, -0.0470]])),\n",
       "             ('output.bias',\n",
       "              tensor([-0.0119, -0.0078,  0.0180,  0.0401, -0.0490, -0.0143,  0.0264,  0.0150,\n",
       "                       0.0015,  0.0190]))])"
      ]
     },
     "execution_count": 3,
     "metadata": {},
     "output_type": "execute_result"
    }
   ],
   "source": [
    "net.state_dict()"
   ]
  },
  {
   "cell_type": "code",
   "execution_count": 7,
   "id": "0c11c100",
   "metadata": {
    "execution": {
     "iopub.execute_input": "2022-07-31T02:32:56.549285Z",
     "iopub.status.busy": "2022-07-31T02:32:56.548944Z",
     "iopub.status.idle": "2022-07-31T02:32:56.553472Z",
     "shell.execute_reply": "2022-07-31T02:32:56.552867Z"
    },
    "origin_pos": 22,
    "tab": [
     "pytorch"
    ]
   },
   "outputs": [],
   "source": [
    "# 存储我们前面讲过得state_dict这个字典, 存取net中所有的参数. 我们只需要保存这个这个dict即可.\n",
    "torch.save(net.state_dict(), 'mlp.params')"
   ]
  },
  {
   "cell_type": "markdown",
   "id": "7bef8dab",
   "metadata": {
    "origin_pos": 24
   },
   "source": [
    "为了恢复模型，我们[**实例化了原始多层感知机模型的一个备份。**]\n",
    "这里我们不需要随机初始化模型参数，而是(**直接读取文件中存储的参数。**)\n"
   ]
  },
  {
   "cell_type": "code",
   "execution_count": null,
   "id": "a85ffdde",
   "metadata": {},
   "outputs": [],
   "source": []
  },
  {
   "cell_type": "code",
   "execution_count": 8,
   "id": "3b5367f0",
   "metadata": {
    "execution": {
     "iopub.execute_input": "2022-07-31T02:32:56.556338Z",
     "iopub.status.busy": "2022-07-31T02:32:56.556009Z",
     "iopub.status.idle": "2022-07-31T02:32:56.562475Z",
     "shell.execute_reply": "2022-07-31T02:32:56.561831Z"
    },
    "origin_pos": 26,
    "tab": [
     "pytorch"
    ]
   },
   "outputs": [
    {
     "data": {
      "text/plain": [
       "MLP(\n",
       "  (hidden): Linear(in_features=20, out_features=256, bias=True)\n",
       "  (output): Linear(in_features=256, out_features=10, bias=True)\n",
       ")"
      ]
     },
     "execution_count": 8,
     "metadata": {},
     "output_type": "execute_result"
    }
   ],
   "source": [
    "# 这里是pytorch的一个缺陷, 就是说我们不能存储整个模型的定义. (虽然通过其他方法可以存储模型的定义. )\n",
    "# 我们只能加载参数, 然后load进提前我们 生成好的 对应的 模型实例. \n",
    "\n",
    "# 我们需要先声明这个模型.\n",
    "clone = MLP() # first generate a object \n",
    "# 然后load进去.\n",
    "clone.load_state_dict(torch.load('mlp.params')) # 然后load, 出来. 然后放入到生成好的模型实例中\n",
    "# \n",
    "clone.eval() # 返回值是self, self.__repf__()"
   ]
  },
  {
   "cell_type": "markdown",
   "id": "c2965c95",
   "metadata": {
    "origin_pos": 28
   },
   "source": [
    "由于两个实例具有相同的模型参数，在输入相同的`X`时，\n",
    "两个实例的计算结果应该相同。\n",
    "让我们来验证一下。\n"
   ]
  },
  {
   "cell_type": "code",
   "execution_count": 9,
   "id": "bfd32641",
   "metadata": {
    "execution": {
     "iopub.execute_input": "2022-07-31T02:32:56.565379Z",
     "iopub.status.busy": "2022-07-31T02:32:56.565041Z",
     "iopub.status.idle": "2022-07-31T02:32:56.570481Z",
     "shell.execute_reply": "2022-07-31T02:32:56.569880Z"
    },
    "origin_pos": 30,
    "tab": [
     "pytorch"
    ]
   },
   "outputs": [
    {
     "data": {
      "text/plain": [
       "tensor([[True, True, True, True, True, True, True, True, True, True],\n",
       "        [True, True, True, True, True, True, True, True, True, True]])"
      ]
     },
     "execution_count": 9,
     "metadata": {},
     "output_type": "execute_result"
    }
   ],
   "source": [
    "Y_clone = clone(X) \n",
    "Y_clone == Y \n",
    "\n",
    "# 可见一样. 所以参数是一样的. "
   ]
  },
  {
   "cell_type": "markdown",
   "id": "2092c4f8",
   "metadata": {
    "origin_pos": 32
   },
   "source": [
    "## 小结\n",
    "\n",
    "* `save`和`load`函数可用于张量对象的文件读写。\n",
    "* 我们可以通过参数字典保存和加载网络的全部参数。\n",
    "* 保存架构必须在代码中完成，而不是在参数中完成。\n",
    "\n",
    "## 练习\n",
    "\n",
    "1. 即使不需要将经过训练的模型部署到不同的设备上，存储模型参数还有什么实际的好处？\n",
    "1. 假设我们只想复用网络的一部分，以将其合并到不同的网络架构中。比如说，如果你想在一个新的网络中使用之前网络的前两层，你该怎么做？\n",
    "1. 如何同时保存网络架构和参数？你会对架构加上什么限制？\n"
   ]
  },
  {
   "cell_type": "markdown",
   "id": "cc2f5d85",
   "metadata": {
    "origin_pos": 34,
    "tab": [
     "pytorch"
    ]
   },
   "source": [
    "[Discussions](https://discuss.d2l.ai/t/1839)\n"
   ]
  }
 ],
 "metadata": {
  "kernelspec": {
   "display_name": "Python 3.10.6 64-bit",
   "language": "python",
   "name": "python3"
  },
  "language_info": {
   "codemirror_mode": {
    "name": "ipython",
    "version": 3
   },
   "file_extension": ".py",
   "mimetype": "text/x-python",
   "name": "python",
   "nbconvert_exporter": "python",
   "pygments_lexer": "ipython3",
   "version": "3.10.6"
  },
  "vscode": {
   "interpreter": {
    "hash": "916dbcbb3f70747c44a77c7bcd40155683ae19c65e1c03b4aa3499c5328201f1"
   }
  }
 },
 "nbformat": 4,
 "nbformat_minor": 5
}
