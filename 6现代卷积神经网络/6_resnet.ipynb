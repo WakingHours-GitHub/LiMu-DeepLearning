{
 "cells": [
  {
   "cell_type": "code",
   "execution_count": 1,
   "metadata": {},
   "outputs": [],
   "source": [
    "import torch\n",
    "from torch import nn\n",
    "from torch.nn import functional as F\n",
    "from d2l import torch as d2l"
   ]
  },
  {
   "cell_type": "code",
   "execution_count": 2,
   "metadata": {},
   "outputs": [],
   "source": [
    "# 实现一个残差块:\n",
    "class Residual(nn.Module):\n",
    "    def __init__(self, in_channels, out_channels, use_1x1Conv2d=False, strides=1) -> None:\n",
    "        super().__init__()\n",
    "        self.conv1 = nn.Conv2d(in_channels, out_channels, 3, stride=strides, padding=1)\n",
    "        self.conv2 = nn.Conv2d(out_channels, out_channels, 3, padding=1)\n",
    "\n",
    "        if use_1x1Conv2d:\n",
    "            self.conv3 = nn.Conv2d(in_channels, out_channels, 1, stride=strides, padding=0) \n",
    "            # 注意1*1的卷积层padding=1, 这样k-2p = 1才不改变形状\n",
    "            # 这个1*1的卷积层必须要和我们大的卷积层形状一样， 因为我们后面还需要在通道维上进行concat.\n",
    "            # so, this 1*1 Conv2d is that shape map in_channels to out_channels\n",
    "        else:\n",
    "            self.conv3 = None\n",
    "        \n",
    "        # 剩下的几层:\n",
    "\n",
    "        self.bn1 = nn.BatchNorm2d(num_features=out_channels) # 只要给出输出的数字即可.\n",
    "        self.bn2 = nn.BatchNorm2d(out_channels)\n",
    "    \n",
    "    def forward(self, X):\n",
    "        # 先经过线性层, 将输出拉到一个合适的范围, 然后再使用relu非激活函数进行非激活.\n",
    "        Y = F.relu(self.bn1(self.conv1(X))) # \n",
    "        Y = self.bn2(self.conv2(Y))\n",
    "\n",
    "\n",
    "        if self.conv3:\n",
    "            X = self.conv3(X)\n",
    "        \n",
    "        # 然后做元素加法: \n",
    "        Y += X # 我们提到过, 这是一种剩内存的方法:\n",
    "    \n",
    "        return F.relu(Y) # 最后一个输出函数. \n",
    "\n"
   ]
  },
  {
   "cell_type": "code",
   "execution_count": 3,
   "metadata": {},
   "outputs": [
    {
     "data": {
      "text/plain": [
       "torch.Size([4, 3, 6, 6])"
      ]
     },
     "execution_count": 3,
     "metadata": {},
     "output_type": "execute_result"
    }
   ],
   "source": [
    "# 测试一下: \n",
    "blk = Residual(3, 3)\n",
    "X = torch.rand(4, 3, 6, 6)\n",
    "Y = blk(X)\n",
    "Y.shape # 可以看到, 可见, 高宽没有减半\n",
    "# 因为我们设置的是in_channels=out_channels. 并且没有设置srides, 默认为1. "
   ]
  },
  {
   "cell_type": "code",
   "execution_count": 4,
   "metadata": {},
   "outputs": [
    {
     "data": {
      "text/plain": [
       "torch.Size([4, 6, 3, 3])"
      ]
     },
     "execution_count": 4,
     "metadata": {},
     "output_type": "execute_result"
    }
   ],
   "source": [
    "# 如果我们想使通道数翻倍, 高宽减半, 这是stage或者block常见的设计思路:\n",
    "# 那么我们就要使用1*1Conv2d来使输入和输出形状相匹配. \n",
    "blk = Residual(3, 6, use_1x1Conv2d=True ,strides=2)\n",
    "blk(X).shape"
   ]
  },
  {
   "cell_type": "code",
   "execution_count": 6,
   "metadata": {},
   "outputs": [],
   "source": [
    "# 实现ResNet模型:\n",
    "b1 = nn.Sequential( # 第一个stage类似于googleNet\n",
    "    nn.Conv2d(1, 64, kernel_size=7, stride=2, padding=3),\n",
    "    nn.BatchNorm2d(64), nn.ReLU(),\n",
    "    nn.MaxPool2d(kernel_size=3, stride=2, padding=1), # 不改变高宽\n",
    ")"
   ]
  },
  {
   "cell_type": "code",
   "execution_count": 7,
   "metadata": {},
   "outputs": [],
   "source": [
    "# resnet_block, 上述是一个resnet_bolck. 这次我们要组成一个更大的stage其中使用resnet_block构成\n",
    "\n",
    "def resnet_block(input_channels, out_chnanels, num_residuals, first_block=False):\n",
    "    blk = [] # container\n",
    "\n",
    "    # \n",
    "    for i in range(num_residuals): # 一个stage有多少个residual block\n",
    "        if i == 0 and not first_block: # 如果是stage第一个, 但是不是第一个stage, 那么, 就高宽减半. \n",
    "            blk.append(Residual(input_channels, out_chnanels, use_1x1Conv2d=True, strides=2))\n",
    "        else: # 不进行高宽减半了. 并且通道数也不改变\n",
    "            blk.append(Residual(out_chnanels, out_chnanels)) # \n",
    "    \n",
    "    return blk"
   ]
  },
  {
   "cell_type": "code",
   "execution_count": 8,
   "metadata": {},
   "outputs": [],
   "source": [
    "# 构造ResNet:\n",
    "b2 = nn.Sequential(*resnet_block(64, 64, 2, first_block=True)) # *解包\n",
    "b3 = nn.Sequential(*resnet_block(64, 128, 2))\n",
    "b4 = nn.Sequential(*resnet_block(128, 256, 2))\n",
    "b5 = nn.Sequential(*resnet_block(256, 512, 2))"
   ]
  },
  {
   "cell_type": "code",
   "execution_count": 9,
   "metadata": {},
   "outputs": [],
   "source": [
    "# 构造最后的网络: \n",
    "# 最后与GoogLeNet一样, 最后使用全局汇聚(pooling)层,  然后使用全连接.\n",
    "net = nn.Sequential(b1, b2, b3, b4, b5,\n",
    "                    nn.AdaptiveAvgPool2d((1, 1)), # 形状: [batch, channel, 1, 1]\n",
    "                    nn.Flatten(), \n",
    "                    nn.Linear(512, 10) # channel -> classes.\n",
    "                )\n"
   ]
  },
  {
   "cell_type": "code",
   "execution_count": 10,
   "metadata": {},
   "outputs": [
    {
     "name": "stdout",
     "output_type": "stream",
     "text": [
      "Sequential\t: torch.Size([1, 64, 56, 56])\n",
      "Sequential\t: torch.Size([1, 64, 56, 56])\n",
      "Sequential\t: torch.Size([1, 128, 28, 28])\n",
      "Sequential\t: torch.Size([1, 256, 14, 14])\n",
      "Sequential\t: torch.Size([1, 512, 7, 7])\n",
      "AdaptiveAv\t: torch.Size([1, 512, 1, 1])\n",
      "Flatten   \t: torch.Size([1, 512])\n",
      "Linear    \t: torch.Size([1, 10])\n"
     ]
    }
   ],
   "source": [
    "# 看一下形状变化: \n",
    "X = torch.randn(size=(1                      , 1, 224, 224))\n",
    "for layer in net:\n",
    "    X = layer(X)\n",
    "    print(f\"{layer.__class__.__name__:10.10}\\t: {X.shape}\")"
   ]
  },
  {
   "cell_type": "code",
   "execution_count": 11,
   "metadata": {},
   "outputs": [
    {
     "ename": "NameError",
     "evalue": "name 'd2l' is not defined",
     "output_type": "error",
     "traceback": [
      "\u001b[0;31m---------------------------------------------------------------------------\u001b[0m",
      "\u001b[0;31mNameError\u001b[0m                                 Traceback (most recent call last)",
      "Cell \u001b[0;32mIn[11], line 3\u001b[0m\n\u001b[1;32m      1\u001b[0m \u001b[39m# 训练: \u001b[39;00m\n\u001b[1;32m      2\u001b[0m num_epochs, lr, batch_size \u001b[39m=\u001b[39m \u001b[39m10\u001b[39m, \u001b[39m1e-2\u001b[39m, \u001b[39m128\u001b[39m\n\u001b[0;32m----> 3\u001b[0m train_iter, test_iter \u001b[39m=\u001b[39m d2l\u001b[39m.\u001b[39mload_data_fashion_mnist(batch_size, resize\u001b[39m=\u001b[39m\u001b[39m96\u001b[39m) \u001b[39m# simple\u001b[39;00m\n\u001b[1;32m      4\u001b[0m d2l\u001b[39m.\u001b[39mtrain_ch6(net, train_iter, test_iter, num_epochs, lr, d2l\u001b[39m.\u001b[39mtry_gpu())\n",
      "\u001b[0;31mNameError\u001b[0m: name 'd2l' is not defined"
     ]
    }
   ],
   "source": [
    "# 训练: \n",
    "num_epochs, lr, batch_size = 10, 1e-2, 128\n",
    "train_iter, test_iter = d2l.load_data_fashion_mnist(batch_size, resize=96) # simple\n",
    "d2l.train_ch6(net, train_iter, test_iter, num_epochs, lr, d2l.try_gpu())"
   ]
  },
  {
   "cell_type": "code",
   "execution_count": 12,
   "metadata": {},
   "outputs": [],
   "source": [
    "class EMA():\n",
    "    def __init__(self, model, decay):\n",
    "        self.model = model\n",
    "        self.decay = decay\n",
    "        self.shadow = {}\n",
    "        self.backup = {}\n",
    "\n",
    "    def register(self):\n",
    "        for name, param in self.model.named_parameters():\n",
    "            if param.requires_grad:\n",
    "                self.shadow[name] = param.data.clone()\n",
    "\n",
    "    def update(self):\n",
    "        for name, param in self.model.named_parameters():\n",
    "            if param.requires_grad:\n",
    "                assert name in self.shadow\n",
    "                new_average = (1.0 - self.decay) * param.data + self.decay * self.shadow[name]\n",
    "                self.shadow[name] = new_average.clone()\n",
    "\n",
    "    def apply_shadow(self):\n",
    "        for name, param in self.model.named_parameters():\n",
    "            if param.requires_grad:\n",
    "                assert name in self.shadow\n",
    "                self.backup[name] = param.data\n",
    "                param.data = self.shadow[name]\n",
    "\n",
    "    def restore(self):\n",
    "        for name, param in self.model.named_parameters():\n",
    "            if param.requires_grad:\n",
    "                assert name in self.backup\n",
    "                param.data = self.backup[name]\n",
    "        self.backup = {}\n",
    "\n",
    "\n",
    "\n",
    "# 初始化\n",
    "ema = EMA(net, 0.999)\n",
    "ema.register()\n"
   ]
  },
  {
   "cell_type": "code",
   "execution_count": 13,
   "metadata": {},
   "outputs": [],
   "source": [
    "# eval前，apply shadow weights；eval之后，恢复原来模型的参数\n",
    "def evaluate():\n",
    "    ema.apply_shadow()\n",
    "    # evaluate\n",
    "    \n",
    "    \n",
    "    \n",
    "    \n",
    "    ema.restore()\n",
    "\n",
    "def evaluate_accuracy_gpu(net, data_iter, device=None):\n",
    "    \"\"\"Compute the accuracy for a model on a dataset using a GPU.\n",
    "\n",
    "    Defined in :numref:`sec_lenet`\"\"\"\n",
    "    if isinstance(net, nn.Module):\n",
    "        net.eval()  # Set the model to evaluation mode\n",
    "        if not device:\n",
    "            device = next(iter(net.parameters())).device\n",
    "    # No. of correct predictions, no. of predictions\n",
    "    metric = d2l.Accumulator(2)\n",
    "    ema.apply_shadow()\n",
    "    \n",
    "\n",
    "    with torch.no_grad():\n",
    "        for X, y in data_iter:\n",
    "            if isinstance(X, list):\n",
    "                # Required for BERT Fine-tuning (to be covered later)\n",
    "                X = [x.to(device) for x in X]\n",
    "            else:\n",
    "                X = X.to(device)\n",
    "            y = y.to(device)\n",
    "            metric.add(d2l.accuracy(net(X), y), d2l.size(y))\n",
    "    ema.restore()\n",
    "    \n",
    "    return metric[0] / metric[1]\n",
    "\n",
    "\n",
    "def train_ch6(net, train_iter, test_iter, num_epochs, lr, device):\n",
    "    \"\"\"Train a model with a GPU (defined in Chapter 6).\n",
    "\n",
    "    Defined in :numref:`sec_lenet`\"\"\"\n",
    "    def init_weights(m):\n",
    "        if type(m) == nn.Linear or type(m) == nn.Conv2d:\n",
    "            nn.init.xavier_uniform_(m.weight)\n",
    "    \n",
    "    net.apply(init_weights) # apply\n",
    "    print('training on', device)\n",
    "    net.to(device)\n",
    "    optimizer = torch.optim.SGD(net.parameters(), lr=lr)\n",
    "    loss = nn.CrossEntropyLoss()\n",
    "    animator = d2l.Animator(xlabel='epoch', xlim=[1, num_epochs],\n",
    "                            legend=['train loss', 'train acc', 'test acc'])\n",
    "    timer, num_batches = d2l.Timer(), len(train_iter)\n",
    "    for epoch in range(num_epochs):\n",
    "        # Sum of training loss, sum of training accuracy, no. of examples\n",
    "        metric = d2l.Accumulator(3)\n",
    "        net.train()\n",
    "        for i, (X, y) in enumerate(train_iter):\n",
    "            timer.start()\n",
    "            optimizer.zero_grad()\n",
    "            X, y = X.to(device), y.to(device)\n",
    "            y_hat = net(X)\n",
    "            l = loss(y_hat, y)\n",
    "            l.backward()\n",
    "            optimizer.step()\n",
    "            ema.update()\n",
    "            \n",
    "            with torch.no_grad():\n",
    "                metric.add(l * X.shape[0], d2l.accuracy(y_hat, y), X.shape[0])\n",
    "            timer.stop()\n",
    "            train_l = metric[0] / metric[2]\n",
    "            train_acc = metric[1] / metric[2]\n",
    "            if (i + 1) % (num_batches // 5) == 0 or i == num_batches - 1:\n",
    "                animator.add(epoch + (i + 1) / num_batches,\n",
    "                             (train_l, train_acc, None))\n",
    "        test_acc = d2l.evaluate_accuracy_gpu(net, test_iter)\n",
    "        animator.add(epoch + 1, (None, None, test_acc))\n",
    "    print(f'loss {train_l:.3f}, train acc {train_acc:.3f}, '\n",
    "          f'test acc {test_acc:.3f}')\n",
    "    print(f'{metric[2] * num_epochs / timer.sum():.1f} examples/sec '\n",
    "          f'on {str(device)}')\n",
    "\n",
    "# 训练过程中，更新完参数后，同步update shadow weights\n",
    "# def train():\n",
    "    \n",
    "    \n",
    "    \n",
    "    \n",
    "    \n",
    "    \n",
    "#     optimizer.step()\n",
    "#     ema.update()\n",
    "\n"
   ]
  },
  {
   "cell_type": "code",
   "execution_count": 14,
   "metadata": {},
   "outputs": [
    {
     "ename": "NameError",
     "evalue": "name 'd2l' is not defined",
     "output_type": "error",
     "traceback": [
      "\u001b[0;31m---------------------------------------------------------------------------\u001b[0m",
      "\u001b[0;31mNameError\u001b[0m                                 Traceback (most recent call last)",
      "Cell \u001b[0;32mIn[14], line 3\u001b[0m\n\u001b[1;32m      1\u001b[0m num_epochs, lr, batch_size \u001b[39m=\u001b[39m \u001b[39m10\u001b[39m, \u001b[39m0.02\u001b[39m, \u001b[39m128\u001b[39m\n\u001b[0;32m----> 3\u001b[0m train_iter, test_iter \u001b[39m=\u001b[39m d2l\u001b[39m.\u001b[39mload_data_fashion_mnist(batch_size, \u001b[39m96\u001b[39m)\n\u001b[1;32m      4\u001b[0m train_ch6(net, train_iter, test_iter, num_epochs, lr, device\u001b[39m=\u001b[39md2l\u001b[39m.\u001b[39mtry_gpu())\n",
      "\u001b[0;31mNameError\u001b[0m: name 'd2l' is not defined"
     ]
    }
   ],
   "source": [
    "num_epochs, lr, batch_size = 10, 0.02, 128\n",
    "\n",
    "train_iter, test_iter = d2l.load_data_fashion_mnist(batch_size, 96)\n",
    "train_ch6(net, train_iter, test_iter, num_epochs, lr, device=d2l.try_gpu())\n"
   ]
  },
  {
   "cell_type": "code",
   "execution_count": 14,
   "metadata": {},
   "outputs": [
    {
     "name": "stdout",
     "output_type": "stream",
     "text": [
      "/bin/bash: -c: 行 1: 未预期的记号 \"(\" 附近有语法错误\n",
      "/bin/bash: -c: 行 1: `kill -9 os.getpid()'\n"
     ]
    }
   ],
   "source": [
    "import os\n",
    "\n",
    "!kill -9 os.getpid()"
   ]
  },
  {
   "cell_type": "code",
   "execution_count": null,
   "metadata": {},
   "outputs": [],
   "source": []
  }
 ],
 "metadata": {
  "kernelspec": {
   "display_name": "Python 3 (ipykernel)",
   "language": "python",
   "name": "python3"
  },
  "language_info": {
   "codemirror_mode": {
    "name": "ipython",
    "version": 3
   },
   "file_extension": ".py",
   "mimetype": "text/x-python",
   "name": "python",
   "nbconvert_exporter": "python",
   "pygments_lexer": "ipython3",
   "version": "3.10.12"
  },
  "vscode": {
   "interpreter": {
    "hash": "31f2aee4e71d21fbe5cf8b01ff0e069b9275f58929596ceb00d14d90e3e16cd6"
   }
  }
 },
 "nbformat": 4,
 "nbformat_minor": 2
}
