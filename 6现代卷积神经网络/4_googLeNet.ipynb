{
 "cells": [
  {
   "cell_type": "code",
   "execution_count": 1,
   "metadata": {},
   "outputs": [],
   "source": [
    "# 第一个几乎超100层的卷积神经网络:\n",
    "# 核心是Inception块. 我全都要了, 类似于随机森林.\n",
    "\n",
    "# 首先我们还是导包\n",
    "import torch\n",
    "from torch import nn\n",
    "from torch.nn import functional as F\n",
    "from d2l import torch as d2l\n"
   ]
  },
  {
   "cell_type": "code",
   "execution_count": 2,
   "metadata": {},
   "outputs": [
    {
     "ename": "SyntaxError",
     "evalue": "incomplete input (351332755.py, line 19)",
     "output_type": "error",
     "traceback": [
      "\u001b[0;36m  Cell \u001b[0;32mIn [2], line 19\u001b[0;36m\u001b[0m\n\u001b[0;31m    def forward(self, X):\u001b[0m\n\u001b[0m                          ^\u001b[0m\n\u001b[0;31mSyntaxError\u001b[0m\u001b[0;31m:\u001b[0m incomplete input\n"
     ]
    }
   ],
   "source": [
    "# 实现Inception块:\n",
    "\n",
    "class Inception(nn.Module):\n",
    "    def __init__(self, in_channels, c1, c2, c3, c4, **kwargs) -> None: # 设置每一条path里面的通道数.\n",
    "        super(Inception, self).__init__(**kwargs)\n",
    "        # super().__init__()\n",
    "        # 不同线路之间, 我们使用不同的操作:\n",
    "        # first path: 1*1 conv2d\n",
    "        self.p1_1 = nn.Conv2d(in_channels, c1, kernel_size=1, stride=1, padding=0),\n",
    "        # second path: 1*1 Conv2d, 3*3 Conv2d Pad=1\n",
    "        self.p2_1 = nn.Conv2d(in_channels, c2[0], kernel_size=1),\n",
    "        self.p2_2 = nn.Conv2d(c2, c2, kernel_size=3, padding=1), # k - 2p = 1. 不改变输入高宽.\n",
    "        # three path: 1*1 Conv2d, 5*5 Conv2d pad=2 \n",
    "        self.p3_1 = nn.Conv2d(in_channels, c3, kernel_size=1),\n",
    "        self.p3_2 = nn.Conv2d(c3, c3, kernel_size=5, padding=2)\n",
    "\n",
    "        \n",
    "\n",
    "    \n",
    "    def forward(self, X): \n"
   ]
  },
  {
   "cell_type": "code",
   "execution_count": null,
   "metadata": {},
   "outputs": [],
   "source": [
    "# "
   ]
  }
 ],
 "metadata": {
  "kernelspec": {
   "display_name": "Python 3.10.6 64-bit",
   "language": "python",
   "name": "python3"
  },
  "language_info": {
   "codemirror_mode": {
    "name": "ipython",
    "version": 3
   },
   "file_extension": ".py",
   "mimetype": "text/x-python",
   "name": "python",
   "nbconvert_exporter": "python",
   "pygments_lexer": "ipython3",
   "version": "3.10.6"
  },
  "orig_nbformat": 4,
  "vscode": {
   "interpreter": {
    "hash": "31f2aee4e71d21fbe5cf8b01ff0e069b9275f58929596ceb00d14d90e3e16cd6"
   }
  }
 },
 "nbformat": 4,
 "nbformat_minor": 2
}
