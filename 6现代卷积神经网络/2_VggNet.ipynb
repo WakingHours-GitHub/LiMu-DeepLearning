{
 "cells": [
  {
   "cell_type": "code",
   "execution_count": 1,
   "metadata": {},
   "outputs": [],
   "source": [
    "# VGG网络, 首先实现VGG Block.\n",
    "import torch\n",
    "from torch import nn\n",
    "from d2l import torch as d2l\n"
   ]
  },
  {
   "cell_type": "code",
   "execution_count": 2,
   "metadata": {},
   "outputs": [],
   "source": [
    "# 首先实现VGG块: \n",
    "def vgg_block(num_Conv2ds, in_channels, out_channels):\n",
    "    layers = []\n",
    "    for _ in range(num_Conv2ds):\n",
    "        layers.append(nn.Conv2d(in_channels, out_channels, kernel_size=3, padding=1))\n",
    "        layers.append(nn.ReLU())\n",
    "        in_channels = out_channels\n",
    "    # 最后添加一个MaxPooling(), 实现宽高减半. (卷积层已经\n",
    "    # 实现了通道数翻倍)\n",
    "    layers.append(nn.MaxPool2d(kernel_size=3, stride=2))\n",
    "\n",
    "\n",
    "def get_vgg_block(num_Conv12ds, in_channels, out_channels):\n",
    "    layers = [nn.Conv2d(in_channels, out_channels, 3, 1, 1)]\n",
    "    \n",
    "    for _ in range(num_Conv12ds-1):\n",
    "        layers.append(nn.Conv2d(out_channels, out_channels, 3, 1, 1))\n",
    "        layers.append(nn.ReLU())\n",
    "\n",
    "    # 最后实现宽高减半\n",
    "    layers.append(nn.MaxPool2d(kernel_size=2, stride=2))\n",
    "    return nn.Sequential(*layers)"
   ]
  },
  {
   "cell_type": "code",
   "execution_count": 4,
   "metadata": {},
   "outputs": [],
   "source": [
    "# 提前高度你的架构:\n",
    "conv_arch = ((1, 64), (1, 128), (2, 256), (2, 512), (2, 512))\n",
    "# conv_architecture\n",
    "# 这是非常经典的结构. \n",
    "# 其中每一个元素\n",
    "# 这是一个双层元组, 其中每一个元素表示一个元组. 一个元组表示一个VGG block\n",
    "# index=0的位置上, 表示这一个VGG快当中卷积的个数\n",
    "# index=1的位置上, 表示输出通道数目\n",
    "# 然后每一个VGG block默认都是高宽减半的. "
   ]
  },
  {
   "cell_type": "code",
   "execution_count": null,
   "metadata": {},
   "outputs": [],
   "source": [
    "# 然后实现vgg:\n",
    "def vgg(conv_arch):\n",
    "    conv_blks = []\n",
    "    in_channels = 1 # 这里是1, 根据自己的数据集进行改变. \n",
    "    # 卷积层部分:\n",
    "    for (num_convs, out_channels) in conv_arch:\n",
    "        conv_blks.append(vgg_block(num_convs, in_channels, out_channels))\n",
    "        in_channels = out_channels # 每一次inchannels = 上一次out_channels. \n",
    "    \n",
    "    return nn.Sequential(\n",
    "        *conv_blks,\n",
    "        # 准备全连接层. \n",
    "        nn.Flatten(), \n",
    "        # 全连接部分: 使用AlexNet一样的全连接层\n",
    "        nn.Linear(out_channels * 7 * 7, 4096), nn.ReLU(), nn.Dropout(0.5),\n",
    "        # 最后一个卷积层是7*7的, 所以\n",
    "        nn.Linear(4096, 4096), nn.ReLU(), nn.Dropout(0.5),\n",
    "        nn.Linear(4096, 10), # 最后的类别数. \n",
    "\n",
    "    )"
   ]
  }
 ],
 "metadata": {
  "kernelspec": {
   "display_name": "Python 3.10.6 64-bit",
   "language": "python",
   "name": "python3"
  },
  "language_info": {
   "codemirror_mode": {
    "name": "ipython",
    "version": 3
   },
   "file_extension": ".py",
   "mimetype": "text/x-python",
   "name": "python",
   "nbconvert_exporter": "python",
   "pygments_lexer": "ipython3",
   "version": "3.10.6"
  },
  "orig_nbformat": 4,
  "vscode": {
   "interpreter": {
    "hash": "31f2aee4e71d21fbe5cf8b01ff0e069b9275f58929596ceb00d14d90e3e16cd6"
   }
  }
 },
 "nbformat": 4,
 "nbformat_minor": 2
}
