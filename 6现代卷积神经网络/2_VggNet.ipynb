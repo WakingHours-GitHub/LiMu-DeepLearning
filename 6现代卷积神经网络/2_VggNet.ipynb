{
 "cells": [
  {
   "cell_type": "code",
   "execution_count": 2,
   "metadata": {},
   "outputs": [],
   "source": [
    "# VGG网络, 首先实现VGG Block.\n",
    "import torch\n",
    "from torch import nn\n",
    "from d2l import torch as d2l\n"
   ]
  },
  {
   "cell_type": "code",
   "execution_count": 1,
   "metadata": {},
   "outputs": [],
   "source": [
    "# 首先实现VGG块: \n",
    "def vgg_block(num_Conv2ds, in_channels, out_channels):\n",
    "    layers = []\n",
    "    for _ in range(num_Conv2ds):\n",
    "        layers.append(nn.Conv2d(in_channels, out_channels, kernel_size=3, padding=1))\n",
    "        layers.append(nn.ReLU())\n",
    "        in_channels = out_channels\n",
    "    # 最后添加一个MaxPooling(), 实现宽高减半. (卷积层已经\n",
    "    # 实现了通道数翻倍)\n",
    "    layers.append(nn.MaxPool2d(kernel_size=3, stride=2))\n",
    "\n",
    "\n",
    "def get_vgg_block(num_Conv12ds, in_channels, out_channels):\n",
    "    layers = [nn.Conv2d(in_channels, out_channels, 3, 1, 1)]\n",
    "    \n",
    "    for _ in range(num_Conv12ds-1):\n",
    "        layers.append(nn.Conv2d(out_channels, out_channels, 3, 1, 1))\n",
    "        layers.append(nn.ReLU())\n",
    "\n",
    "    # 最后实现宽高减半\n",
    "    layers.append(nn.MaxPool2d(kernel_size=2, stride=2))\n",
    "    return nn.Sequential(*layers)"
   ]
  },
  {
   "cell_type": "code",
   "execution_count": null,
   "metadata": {},
   "outputs": [],
   "source": [
    "# 提前高度你的架构:\n",
    "conv_arch = ((1, 64), (1, 128), (2, 256), (2, 512), (2, 512))\n",
    "# 这是非常经典的结构. \n",
    "# 其中每一个元素"
   ]
  }
 ],
 "metadata": {
  "kernelspec": {
   "display_name": "Python 3.10.6 64-bit",
   "language": "python",
   "name": "python3"
  },
  "language_info": {
   "codemirror_mode": {
    "name": "ipython",
    "version": 3
   },
   "file_extension": ".py",
   "mimetype": "text/x-python",
   "name": "python",
   "nbconvert_exporter": "python",
   "pygments_lexer": "ipython3",
   "version": "3.10.6"
  },
  "orig_nbformat": 4,
  "vscode": {
   "interpreter": {
    "hash": "31f2aee4e71d21fbe5cf8b01ff0e069b9275f58929596ceb00d14d90e3e16cd6"
   }
  }
 },
 "nbformat": 4,
 "nbformat_minor": 2
}
