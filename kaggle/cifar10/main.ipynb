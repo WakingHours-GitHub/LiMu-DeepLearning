{
 "cells": [
  {
   "cell_type": "code",
   "execution_count": 1,
   "metadata": {},
   "outputs": [
    {
     "data": {
      "text/plain": [
       "'/home/wakinghours/programming/LiMu-DeepLearning/kaggle/cifar10'"
      ]
     },
     "execution_count": 1,
     "metadata": {},
     "output_type": "execute_result"
    }
   ],
   "source": [
    "import numpy as np\n",
    "import torch\n",
    "from torch import nn\n",
    "from torchvision import transforms\n",
    "import cv2 as cv\n",
    "from torch.utils.data import Dataset, DataLoader\n",
    "from typing import *\n",
    "import sys\n",
    "import os\n",
    "import random\n",
    "from utils import Accumulator, train\n",
    "from net import resnet18\n",
    "import pandas as pd\n",
    "\n",
    "\n",
    "\n",
    "runtime_path = sys.path[0]\n",
    "runtime_path\n"
   ]
  },
  {
   "cell_type": "code",
   "execution_count": 2,
   "metadata": {},
   "outputs": [],
   "source": [
    "def try_all_GPUS() -> List[torch.device]:\n",
    "    devices = [torch.device(f\"cuda:{i}\") for i in range(torch.cuda.device_count())]\n",
    "    return devices if devices else torch.device(\"cpu\")\n",
    "\n",
    "devices = try_all_GPUS()\n"
   ]
  },
  {
   "cell_type": "code",
   "execution_count": 3,
   "metadata": {},
   "outputs": [],
   "source": [
    "path_join = lambda *args: os.path.join(*args)\n",
    "\n",
    "\n",
    "class CIFAR10_dataset(Dataset):\n",
    "    def __init__(self, type_dataset: str = \"train\", vaild_rate=0.1) -> None:\n",
    "        super().__init__()\n",
    "        self.type_dataset = type_dataset\n",
    "        self.vaild_rate = vaild_rate\n",
    "        self.transform_train = transforms.Compose([\n",
    "            transforms.ToTensor(),\n",
    "            transforms.Resize(42),\n",
    "            transforms.RandomResizedCrop(32, (0.6, 1.0), ratio=(1.0, 1.0)),\n",
    "            transforms.RandomHorizontalFlip(),\n",
    "            transforms.Normalize([0.4914, 0.4822, 0.4465],  # normalize. 归一化.\n",
    "                                 [0.2023, 0.1994, 0.2010])\n",
    "        ])\n",
    "        self.transform_vaild = transforms.Compose([\n",
    "                    transforms.ToTensor(),\n",
    "                    transforms.Normalize([0.4914, 0.4822, 0.4465],  # normalize. 归一化.\n",
    "                                         [0.2023, 0.1994, 0.2010])\n",
    "                ])\n",
    "        self.labels_dict = self.parse_csv2label()\n",
    "        self.classes = ['airplane', 'automobile', 'bird', 'cat',\n",
    "                        'deer', 'dog', 'frog', 'horse', 'ship', 'truck']\n",
    "\n",
    "        self.root_path = path_join(runtime_path, \"train\")\n",
    "        if \"train\" == self.type_dataset:\n",
    "            # generate train and vaild dataset file.\n",
    "            self.shuffle_train_vaild()\n",
    "            # only generate in \"train\" mode.\n",
    "\n",
    "            with open(\"./train.txt\", \"r\") as f:\n",
    "                self.file_path_list = f.readlines()\n",
    "\n",
    "        elif \"vaild\" == self.type_dataset:\n",
    "            with open(\"./train_vaild.txt\", \"r\") as f:\n",
    "                self.file_path_list = f.readlines()\n",
    "        else: # test:\n",
    "            self.root_path = path_join(runtime_path, \"test\")\n",
    "\n",
    "            self.file_path_list = [path_join(self.root_path, file_name) for file_name in os.listdir(self.root_path)]\n",
    "\n",
    "\n",
    "    def __getitem__(self, index):\n",
    "        file_path = self.file_path_list[index].strip()\n",
    "        file_name = file_path.split(\"/\")[-1].split(\".\")[0]\n",
    "        img = cv.imread(file_path)\n",
    "        if \"train\" == self.type_dataset:\n",
    "            X = self.transform_train(img)\n",
    "            return X, self.classes.index(self.labels_dict[file_name])\n",
    "        elif \"vaild\" == self.type_dataset:\n",
    "            X = self.transform_vaild(img)\n",
    "\n",
    "            return X, self.classes.index(self.labels_dict[file_name])\n",
    "\n",
    "        else: # test\n",
    "            X = self.transform_vaild(img)\n",
    "            return X, file_name\n",
    "\n",
    "        \n",
    "\n",
    "\n",
    "    def parse_csv2label(self):\n",
    "        with open(\"./trainLabels.csv\", \"r\") as f:\n",
    "            return {ele[0]: ele[1] for ele in [line.strip().split(',') for line in f.readlines()][1:]}\n",
    "\n",
    "    def shuffle_train_vaild(self):\n",
    "        l = len(os.listdir(self.root_path))\n",
    "\n",
    "        try:\n",
    "            file_name_list = os.listdir(self.root_path)\n",
    "            random.shuffle(file_name_list)\n",
    "\n",
    "            with open(path_join(self.root_path, \"../\", \"train.txt\"), \"w\") as train_file_writer:\n",
    "                train_file_writer.write(\n",
    "                    \"\\n\".join([path_join(self.root_path,  file_name)\n",
    "                              for file_name in file_name_list[0: int(l*(1-self.vaild_rate))]])\n",
    "                )\n",
    "\n",
    "            with open(path_join(self.root_path, \"../\",  \"train_vaild.txt\"), \"w\") as train_file_writer:\n",
    "                train_file_writer.write(\n",
    "                    \"\\n\".join([path_join(self.root_path,  file_name)\n",
    "                              for file_name in file_name_list[int(l*(1-self.vaild_rate)):]])\n",
    "                )\n",
    "\n",
    "        except Exception as e:\n",
    "            print(\"error: \", e)\n",
    "\n",
    "    def __len__(self):\n",
    "        return len(self.file_path_list)\n",
    "\n",
    "\n",
    "\n",
    "\n",
    "def load_CIFAR10_iter(batch_size=64, num_workers=28):\n",
    "    return DataLoader(\n",
    "        CIFAR10_dataset(\"train\"),\n",
    "        batch_size,\n",
    "        shuffle=True,\n",
    "        num_workers=num_workers\n",
    "    ),     DataLoader(\n",
    "        CIFAR10_dataset(\"vaild\"),\n",
    "        batch_size,\n",
    "        shuffle=True,\n",
    "        num_workers=num_workers\n",
    "    )\n",
    "\n",
    "\n"
   ]
  },
  {
   "cell_type": "code",
   "execution_count": 4,
   "metadata": {},
   "outputs": [
    {
     "name": "stdout",
     "output_type": "stream",
     "text": [
      "init parameters used by xavier_uniform method. \n"
     ]
    }
   ],
   "source": [
    "net = resnet18() # 实例化. \n",
    "import torchvision\n",
    "# net = torchvision.models.resnet34(pretrained=True)\n",
    "\n",
    "# net = torchvision.models.resnet101(pretrained=True)\n",
    "\n",
    "epoch = 200\n",
    "batch_size = 512\n",
    "lr = 5e-2\n",
    "loss_fn = torch.nn.CrossEntropyLoss()"
   ]
  },
  {
   "cell_type": "code",
   "execution_count": 5,
   "metadata": {},
   "outputs": [],
   "source": [
    "net.fc = nn.Linear(512, 10)\n",
    "# print(net);\n",
    "\n"
   ]
  },
  {
   "cell_type": "code",
   "execution_count": null,
   "metadata": {},
   "outputs": [],
   "source": [
    "\n",
    "train_iter, vaild_iter = load_CIFAR10_iter(batch_size)\n",
    "\n",
    "train(\n",
    "    net,\n",
    "    loss_fn,\n",
    "    train_iter, vaild_iter, \n",
    "    lr, epoch, \n",
    "    80, 10, 0.9, 8e-3,\n",
    "    # \"logs/epoch200_testacc0.823_loss0.29_acc0.9.pth\"\n",
    ")\n",
    "\n"
   ]
  },
  {
   "cell_type": "code",
   "execution_count": 7,
   "metadata": {},
   "outputs": [
    {
     "data": {
      "text/plain": [
       "['airplane',\n",
       " 'automobile',\n",
       " 'bird',\n",
       " 'cat',\n",
       " 'deer',\n",
       " 'dog',\n",
       " 'frog',\n",
       " 'horse',\n",
       " 'ship',\n",
       " 'truck']"
      ]
     },
     "execution_count": 7,
     "metadata": {},
     "output_type": "execute_result"
    }
   ],
   "source": [
    "test_datasets = CIFAR10_dataset(\"test\")\n",
    "test_iter = DataLoader(\n",
    "    test_datasets,\n",
    "    50000,\n",
    "    shuffle=False,\n",
    "    num_workers=30,\n",
    ")\n",
    "\n",
    "classes = test_datasets.classes\n",
    "classes"
   ]
  },
  {
   "cell_type": "code",
   "execution_count": 8,
   "metadata": {},
   "outputs": [
    {
     "ename": "RuntimeError",
     "evalue": "module must have its parameters and buffers on device cuda:0 (device_ids[0]) but found one of them on device: cuda:1",
     "output_type": "error",
     "traceback": [
      "\u001b[0;31m---------------------------------------------------------------------------\u001b[0m",
      "\u001b[0;31mRuntimeError\u001b[0m                              Traceback (most recent call last)",
      "Cell \u001b[0;32mIn[8], line 21\u001b[0m\n\u001b[1;32m     17\u001b[0m     df[\u001b[39m'\u001b[39m\u001b[39mlabel\u001b[39m\u001b[39m'\u001b[39m] \u001b[39m=\u001b[39m df[\u001b[39m'\u001b[39m\u001b[39mlabel\u001b[39m\u001b[39m'\u001b[39m]\u001b[39m.\u001b[39mapply(\u001b[39mlambda\u001b[39;00m x: classes[x])\n\u001b[1;32m     18\u001b[0m     df\u001b[39m.\u001b[39mto_csv(\u001b[39m'\u001b[39m\u001b[39m./submission.csv\u001b[39m\u001b[39m'\u001b[39m, index\u001b[39m=\u001b[39m\u001b[39mFalse\u001b[39;00m)\n\u001b[0;32m---> 21\u001b[0m evel_test_iter(net, test_iter)\n",
      "Cell \u001b[0;32mIn[8], line 9\u001b[0m, in \u001b[0;36mevel_test_iter\u001b[0;34m(net, test_iter, load_path, devices)\u001b[0m\n\u001b[1;32m      6\u001b[0m \u001b[39mwith\u001b[39;00m torch\u001b[39m.\u001b[39mno_grad():\n\u001b[1;32m      7\u001b[0m     \u001b[39m# result = [(classes[net(features).argmax(dim=1).cpu().numpy()[0]], int(file_name[0])) for features, file_name in test_iter]\u001b[39;00m\n\u001b[1;32m      8\u001b[0m     \u001b[39mfor\u001b[39;00m features, file_name \u001b[39min\u001b[39;00m test_iter:\n\u001b[0;32m----> 9\u001b[0m         pred\u001b[39m.\u001b[39mextend(\u001b[39mlist\u001b[39m(net(features)\u001b[39m.\u001b[39margmax(dim\u001b[39m=\u001b[39m\u001b[39m1\u001b[39m)\u001b[39m.\u001b[39mcpu()\u001b[39m.\u001b[39mnumpy()))\n\u001b[1;32m     10\u001b[0m         \u001b[39mid\u001b[39m\u001b[39m.\u001b[39mextend([\u001b[39mint\u001b[39m(ele) \u001b[39mfor\u001b[39;00m ele \u001b[39min\u001b[39;00m file_name])\n\u001b[1;32m     12\u001b[0m     \u001b[39m# print(result[0])\u001b[39;00m\n",
      "File \u001b[0;32m~/.local/lib/python3.10/site-packages/torch/nn/modules/module.py:1190\u001b[0m, in \u001b[0;36mModule._call_impl\u001b[0;34m(self, *input, **kwargs)\u001b[0m\n\u001b[1;32m   1186\u001b[0m \u001b[39m# If we don't have any hooks, we want to skip the rest of the logic in\u001b[39;00m\n\u001b[1;32m   1187\u001b[0m \u001b[39m# this function, and just call forward.\u001b[39;00m\n\u001b[1;32m   1188\u001b[0m \u001b[39mif\u001b[39;00m \u001b[39mnot\u001b[39;00m (\u001b[39mself\u001b[39m\u001b[39m.\u001b[39m_backward_hooks \u001b[39mor\u001b[39;00m \u001b[39mself\u001b[39m\u001b[39m.\u001b[39m_forward_hooks \u001b[39mor\u001b[39;00m \u001b[39mself\u001b[39m\u001b[39m.\u001b[39m_forward_pre_hooks \u001b[39mor\u001b[39;00m _global_backward_hooks\n\u001b[1;32m   1189\u001b[0m         \u001b[39mor\u001b[39;00m _global_forward_hooks \u001b[39mor\u001b[39;00m _global_forward_pre_hooks):\n\u001b[0;32m-> 1190\u001b[0m     \u001b[39mreturn\u001b[39;00m forward_call(\u001b[39m*\u001b[39;49m\u001b[39minput\u001b[39;49m, \u001b[39m*\u001b[39;49m\u001b[39m*\u001b[39;49mkwargs)\n\u001b[1;32m   1191\u001b[0m \u001b[39m# Do not call functions when jit is used\u001b[39;00m\n\u001b[1;32m   1192\u001b[0m full_backward_hooks, non_full_backward_hooks \u001b[39m=\u001b[39m [], []\n",
      "File \u001b[0;32m~/.local/lib/python3.10/site-packages/torch/nn/parallel/data_parallel.py:157\u001b[0m, in \u001b[0;36mDataParallel.forward\u001b[0;34m(self, *inputs, **kwargs)\u001b[0m\n\u001b[1;32m    155\u001b[0m \u001b[39mfor\u001b[39;00m t \u001b[39min\u001b[39;00m chain(\u001b[39mself\u001b[39m\u001b[39m.\u001b[39mmodule\u001b[39m.\u001b[39mparameters(), \u001b[39mself\u001b[39m\u001b[39m.\u001b[39mmodule\u001b[39m.\u001b[39mbuffers()):\n\u001b[1;32m    156\u001b[0m     \u001b[39mif\u001b[39;00m t\u001b[39m.\u001b[39mdevice \u001b[39m!=\u001b[39m \u001b[39mself\u001b[39m\u001b[39m.\u001b[39msrc_device_obj:\n\u001b[0;32m--> 157\u001b[0m         \u001b[39mraise\u001b[39;00m \u001b[39mRuntimeError\u001b[39;00m(\u001b[39m\"\u001b[39m\u001b[39mmodule must have its parameters and buffers \u001b[39m\u001b[39m\"\u001b[39m\n\u001b[1;32m    158\u001b[0m                            \u001b[39m\"\u001b[39m\u001b[39mon device \u001b[39m\u001b[39m{}\u001b[39;00m\u001b[39m (device_ids[0]) but found one of \u001b[39m\u001b[39m\"\u001b[39m\n\u001b[1;32m    159\u001b[0m                            \u001b[39m\"\u001b[39m\u001b[39mthem on device: \u001b[39m\u001b[39m{}\u001b[39;00m\u001b[39m\"\u001b[39m\u001b[39m.\u001b[39mformat(\u001b[39mself\u001b[39m\u001b[39m.\u001b[39msrc_device_obj, t\u001b[39m.\u001b[39mdevice))\n\u001b[1;32m    161\u001b[0m inputs, kwargs \u001b[39m=\u001b[39m \u001b[39mself\u001b[39m\u001b[39m.\u001b[39mscatter(inputs, kwargs, \u001b[39mself\u001b[39m\u001b[39m.\u001b[39mdevice_ids)\n\u001b[1;32m    162\u001b[0m \u001b[39m# for forward function without any inputs, empty list and dict will be created\u001b[39;00m\n\u001b[1;32m    163\u001b[0m \u001b[39m# so the module can be executed on one device which is the first one in device_ids\u001b[39;00m\n",
      "\u001b[0;31mRuntimeError\u001b[0m: module must have its parameters and buffers on device cuda:0 (device_ids[0]) but found one of them on device: cuda:1"
     ]
    }
   ],
   "source": [
    "def evel_test_iter(net, test_iter: DataLoader, load_path = None, devices=try_all_GPUS()):\n",
    "    net = torch.nn.DataParallel(net, devices).to(device=devices[0])\n",
    "    pred, id = [], []\n",
    "\n",
    "    net.eval()\n",
    "    with torch.no_grad():\n",
    "        # result = [(classes[net(features).argmax(dim=1).cpu().numpy()[0]], int(file_name[0])) for features, file_name in test_iter]\n",
    "        for features, file_name in test_iter:\n",
    "            pred.extend(list(net(features).argmax(dim=1).cpu().numpy()))\n",
    "            id.extend([int(ele) for ele in file_name])\n",
    "\n",
    "        # print(result[0])\n",
    "    \n",
    "    result = zip(id, pred)\n",
    "    retult = sorted(result, key=lambda x: x[0])\n",
    "    df = pd.DataFrame({'id': [tup[0] for tup in retult], 'label':  [tup[1] for tup in retult]})\n",
    "    df['label'] = df['label'].apply(lambda x: classes[x])\n",
    "    df.to_csv('./submission.csv', index=False)\n",
    "    \n",
    "\n",
    "evel_test_iter(net, test_iter)\n"
   ]
  },
  {
   "cell_type": "code",
   "execution_count": null,
   "metadata": {},
   "outputs": [],
   "source": [
    "torch.cuda.empty_cache()"
   ]
  },
  {
   "cell_type": "code",
   "execution_count": null,
   "metadata": {},
   "outputs": [],
   "source": []
  }
 ],
 "metadata": {
  "kernelspec": {
   "display_name": "Python 3",
   "language": "python",
   "name": "python3"
  },
  "language_info": {
   "codemirror_mode": {
    "name": "ipython",
    "version": 3
   },
   "file_extension": ".py",
   "mimetype": "text/x-python",
   "name": "python",
   "nbconvert_exporter": "python",
   "pygments_lexer": "ipython3",
   "version": "3.10.6"
  },
  "orig_nbformat": 4,
  "vscode": {
   "interpreter": {
    "hash": "31f2aee4e71d21fbe5cf8b01ff0e069b9275f58929596ceb00d14d90e3e16cd6"
   }
  }
 },
 "nbformat": 4,
 "nbformat_minor": 2
}
