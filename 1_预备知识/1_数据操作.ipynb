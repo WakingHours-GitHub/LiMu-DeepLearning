{
 "cells": [
  {
   "cell_type": "code",
   "execution_count": 1,
   "id": "d9f157bc",
   "metadata": {
    "pycharm": {
     "name": "#%%\n"
    }
   },
   "outputs": [],
   "source": [
    "# 首先导入pytorch\n",
    "# 尽管名称叫做pytorch, 但是我们导入的时候实际上是导入torch\n",
    "import gc\n",
    "\n",
    "import torch"
   ]
  },
  {
   "cell_type": "code",
   "execution_count": 2,
   "id": "a8bcad06",
   "metadata": {
    "pycharm": {
     "name": "#%%\n"
    }
   },
   "outputs": [
    {
     "data": {
      "text/plain": [
       "tensor([ 0,  1,  2,  3,  4,  5,  6,  7,  8,  9, 10, 11])"
      ]
     },
     "execution_count": 2,
     "metadata": {},
     "output_type": "execute_result"
    }
   ],
   "source": [
    "# 然后我们使用torch创建数据操作\n",
    "# 张量表示由一个数值组成的数组，这个数组可能有多个维度。\n",
    "# 具有一个轴的张量对应数学上的向量（vector）； 具有两个轴的张量对应数学上的矩阵（matrix）； 具有两个轴以上的张量没有特殊的数学名称。\n",
    "\n",
    "# 首先是arange()作用与range()相同. 创建一个序列数据\n",
    "x = torch.arange(12)\n",
    "x\n"
   ]
  },
  {
   "cell_type": "code",
   "execution_count": 3,
   "id": "2cef591c",
   "metadata": {
    "pycharm": {
     "name": "#%%\n"
    }
   },
   "outputs": [
    {
     "data": {
      "text/plain": [
       "torch.Size([12])"
      ]
     },
     "execution_count": 3,
     "metadata": {},
     "output_type": "execute_result"
    }
   ],
   "source": [
    "# # tensor的属性:\n",
    "# shape打印tensor的形状\n",
    "x.shape # torch.Size([12])"
   ]
  },
  {
   "cell_type": "code",
   "execution_count": 4,
   "id": "6fc97df4",
   "metadata": {
    "pycharm": {
     "name": "#%%\n"
    }
   },
   "outputs": [
    {
     "data": {
      "text/plain": [
       "torch.Size([12])"
      ]
     },
     "execution_count": 4,
     "metadata": {},
     "output_type": "execute_result"
    }
   ],
   "source": [
    "# size属性, Tensor中的元素总数. 即形状的所有元素成绩. 可以检查他的大小\n",
    "x.size()"
   ]
  },
  {
   "cell_type": "code",
   "execution_count": 5,
   "id": "9f894948",
   "metadata": {
    "pycharm": {
     "name": "#%%\n"
    }
   },
   "outputs": [
    {
     "data": {
      "text/plain": [
       "12"
      ]
     },
     "execution_count": 5,
     "metadata": {},
     "output_type": "execute_result"
    }
   ],
   "source": [
    "# 数组中元素个数 \n",
    "x.numel() # number of element\n",
    "# "
   ]
  },
  {
   "cell_type": "code",
   "execution_count": 6,
   "id": "e0fd42d1",
   "metadata": {
    "pycharm": {
     "name": "#%%\n"
    }
   },
   "outputs": [
    {
     "data": {
      "text/plain": [
       "tensor([[ 0,  1,  2,  3],\n",
       "        [ 4,  5,  6,  7],\n",
       "        [ 8,  9, 10, 11]])"
      ]
     },
     "execution_count": 6,
     "metadata": {},
     "output_type": "execute_result"
    }
   ],
   "source": [
    "# 改变一个张量的形状而不改变元素数量和元素值, 可以调用reshape函数.\n",
    "x = x.reshape(shape=(3, 4)) # 不改变原始的形状. 返回新形状tensor对象\n",
    "x\n",
    "# 但是reshape其实是创建了一个视图(view)"
   ]
  },
  {
   "cell_type": "markdown",
   "id": "28c32fca",
   "metadata": {
    "pycharm": {
     "name": "#%% md\n"
    }
   },
   "source": [
    "我们不需要通过手动指定每个维度来改变形状。 也就是说，如果我们的目标形状是（高度,宽度）， 那么在知道宽度后，高度会被自动计算得出，不必我们自己做除法。 在上面的例子中，为了获得一个3行的矩阵，我们手动指定了它有3行和4列。 幸运的是，我们可以通过-1来调用此自动计算出维度的功能。 即我们可以用x.reshape(-1,4)或x.reshape(3,-1)来取代x.reshape(3,4)。"
   ]
  },
  {
   "cell_type": "code",
   "execution_count": 7,
   "id": "4d7d2870",
   "metadata": {
    "pycharm": {
     "name": "#%%\n"
    }
   },
   "outputs": [
    {
     "data": {
      "text/plain": [
       "torch.Size([2, 6])"
      ]
     },
     "execution_count": 7,
     "metadata": {},
     "output_type": "execute_result"
    }
   ],
   "source": [
    "# 我们可以使用-1, 占位, 不过-1只能存在一个维度, 表示自动计算该维度.\n",
    "x = x.reshape(shape=(2, -1))\n",
    "x.shape # torch.Size([2, 6])\n"
   ]
  },
  {
   "cell_type": "code",
   "execution_count": 8,
   "id": "08d4157b",
   "metadata": {
    "pycharm": {
     "name": "#%%\n"
    }
   },
   "outputs": [
    {
     "data": {
      "text/plain": [
       "tensor([[[0., 0., 0., 0.],\n",
       "         [0., 0., 0., 0.],\n",
       "         [0., 0., 0., 0.]],\n",
       "\n",
       "        [[0., 0., 0., 0.],\n",
       "         [0., 0., 0., 0.],\n",
       "         [0., 0., 0., 0.]]])"
      ]
     },
     "execution_count": 8,
     "metadata": {},
     "output_type": "execute_result"
    }
   ],
   "source": [
    "# 有时候我们需要指定全0, 或者全1数组, \n",
    "# 全1数组\n",
    "torch.zeros(size=(2, 3, 4))"
   ]
  },
  {
   "cell_type": "code",
   "execution_count": 9,
   "id": "6050d3a8",
   "metadata": {
    "pycharm": {
     "name": "#%%\n"
    }
   },
   "outputs": [
    {
     "data": {
      "text/plain": [
       "tensor([[[1., 1., 1., 1.],\n",
       "         [1., 1., 1., 1.],\n",
       "         [1., 1., 1., 1.]],\n",
       "\n",
       "        [[1., 1., 1., 1.],\n",
       "         [1., 1., 1., 1.],\n",
       "         [1., 1., 1., 1.]]])"
      ]
     },
     "execution_count": 9,
     "metadata": {},
     "output_type": "execute_result"
    }
   ],
   "source": [
    "# 全0数组\n",
    "torch.ones(size=(2, 3, 4))"
   ]
  },
  {
   "cell_type": "code",
   "execution_count": 10,
   "id": "69f41049",
   "metadata": {
    "pycharm": {
     "name": "#%%\n"
    }
   },
   "outputs": [
    {
     "data": {
      "text/plain": [
       "tensor([[[10, 10, 10, 10],\n",
       "         [10, 10, 10, 10],\n",
       "         [10, 10, 10, 10]],\n",
       "\n",
       "        [[10, 10, 10, 10],\n",
       "         [10, 10, 10, 10],\n",
       "         [10, 10, 10, 10]]])"
      ]
     },
     "execution_count": 10,
     "metadata": {},
     "output_type": "execute_result"
    }
   ],
   "source": [
    "# 特殊值数组\n",
    "torch.full(size=(2, 3, 4), fill_value=10)\n",
    "# 生成全fill_value的数组\n",
    "# 我们还需要知道size=()的不同维度对应到形状到底是什么样子的. \n",
    "# size=(2, 3, 4)就是2个(3, 4)的矩阵. "
   ]
  },
  {
   "cell_type": "code",
   "execution_count": 11,
   "id": "980f3c51",
   "metadata": {},
   "outputs": [],
   "source": [
    "# 随机分布: 服从高斯分布, 我们一般是"
   ]
  },
  {
   "cell_type": "markdown",
   "id": "7f6fb10c",
   "metadata": {
    "pycharm": {
     "name": "#%% md\n"
    }
   },
   "source": [
    "# 运算符"
   ]
  },
  {
   "cell_type": "code",
   "execution_count": 12,
   "id": "ac2c6618",
   "metadata": {
    "pycharm": {
     "name": "#%%\n"
    }
   },
   "outputs": [
    {
     "data": {
      "text/plain": [
       "(tensor([ 3.,  4.,  6., 10.]),\n",
       " tensor([-1.,  0.,  2.,  6.]),\n",
       " tensor([ 2.,  4.,  8., 16.]),\n",
       " tensor([0.5000, 1.0000, 2.0000, 4.0000]),\n",
       " tensor([ 1.,  4., 16., 64.]))"
      ]
     },
     "execution_count": 12,
     "metadata": {},
     "output_type": "execute_result"
    }
   ],
   "source": [
    "# 对于任意具有相同形状的张量， 常见的标准算术运算符（+、-、*、/和**）都可以被升级为按元素运算\n",
    "# 我们可以在同一形状的任意两个张量上调用按元素操作。\n",
    "x = torch.tensor([1.0, 2, 4, 8])\n",
    "y = torch.tensor([2, 2, 2, 2])\n",
    "x + y, x - y, x * y, x / y, x ** y\n",
    "# 形状相同的情况下, 默认使用按照元素操作. "
   ]
  },
  {
   "cell_type": "code",
   "execution_count": 13,
   "id": "b2d3920d",
   "metadata": {
    "pycharm": {
     "name": "#%%\n"
    }
   },
   "outputs": [
    {
     "data": {
      "text/plain": [
       "tensor([2.7183e+00, 7.3891e+00, 5.4598e+01, 2.9810e+03])"
      ]
     },
     "execution_count": 13,
     "metadata": {},
     "output_type": "execute_result"
    }
   ],
   "source": [
    "# “按元素”方式可以应用更多的计算，包括像求幂这样的一元运算符。\n",
    "torch.exp(x)\n",
    "# 除了按元素计算外，我们还可以执行线性代数运算，包括向量点积和矩阵乘法。 我们将在 2.3节中解释线性代数的重点内容。"
   ]
  },
  {
   "cell_type": "code",
   "execution_count": 14,
   "id": "a1ce8fa0",
   "metadata": {
    "pycharm": {
     "name": "#%%\n"
    }
   },
   "outputs": [
    {
     "name": "stdout",
     "output_type": "stream",
     "text": [
      "tensor([[ 0.,  1.,  2.,  3.],\n",
      "        [ 4.,  5.,  6.,  7.],\n",
      "        [ 8.,  9., 10., 11.]])\n",
      "tensor([[2., 1., 4., 3.],\n",
      "        [1., 2., 3., 4.],\n",
      "        [4., 3., 2., 1.]])\n"
     ]
    },
    {
     "data": {
      "text/plain": [
       "tensor([[ 0.,  1.,  2.,  3.,  2.,  1.,  4.,  3.],\n",
       "        [ 4.,  5.,  6.,  7.,  1.,  2.,  3.,  4.],\n",
       "        [ 8.,  9., 10., 11.,  4.,  3.,  2.,  1.]])"
      ]
     },
     "execution_count": 14,
     "metadata": {},
     "output_type": "execute_result"
    }
   ],
   "source": [
    "# 张量拼接:\n",
    "X = torch.arange(12, dtype=torch.float32).reshape((3, 4))\n",
    "# 在后面训练时, 我们都是使用的float32类型, 进行训练, 因为float32的运算速度快.\n",
    "Y = torch.tensor([[2.0, 1, 4, 3], [1, 2, 3, 4], [4, 3, 2, 1]]) # 使用2.0, 直接创建float32类型的元素\n",
    "print(X, Y, sep='\\n')\n",
    "# 按照轴进行拼接: API: torch.cat()\n",
    "torch.cat((X, Y), dim=0), # 按照dim=0, 就是行维度, 也就是竖直方向进行拼接.\n",
    "torch.cat((X, Y), dim=1) # dim=1按照1维度拼接. 这里也就是列维度, 也就是水平方向拼接."
   ]
  },
  {
   "cell_type": "code",
   "execution_count": 15,
   "id": "718d3abb",
   "metadata": {
    "pycharm": {
     "name": "#%%\n"
    }
   },
   "outputs": [
    {
     "data": {
      "text/plain": [
       "tensor([[False,  True, False,  True],\n",
       "        [False, False, False, False],\n",
       "        [False, False, False, False]])"
      ]
     },
     "execution_count": 15,
     "metadata": {},
     "output_type": "execute_result"
    }
   ],
   "source": [
    "# 使用逻辑运算符构建二元张量, 其实也就是生成逻辑矩阵\n",
    "X == Y # return a logistic matrix"
   ]
  },
  {
   "cell_type": "code",
   "execution_count": 16,
   "id": "f4c51488",
   "metadata": {
    "pycharm": {
     "name": "#%%\n"
    }
   },
   "outputs": [
    {
     "data": {
      "text/plain": [
       "tensor(66.)"
      ]
     },
     "execution_count": 16,
     "metadata": {},
     "output_type": "execute_result"
    }
   ],
   "source": [
    "# 求和\n",
    "X.sum() # return a sigal element tensor default\n",
    "# sure, is not only have sum(), but also have mean()....\n",
    "# wahtever x is waht dimension, via .sum() all retuan a scalar"
   ]
  },
  {
   "cell_type": "code",
   "execution_count": 17,
   "id": "db57ca1f",
   "metadata": {
    "pycharm": {
     "name": "#%%\n"
    }
   },
   "outputs": [
    {
     "data": {
      "text/plain": [
       "0"
      ]
     },
     "execution_count": 17,
     "metadata": {},
     "output_type": "execute_result"
    }
   ],
   "source": [
    "gc.collect()"
   ]
  },
  {
   "cell_type": "code",
   "execution_count": 18,
   "id": "f389670a",
   "metadata": {
    "pycharm": {
     "name": "#%%\n"
    }
   },
   "outputs": [
    {
     "data": {
      "text/plain": [
       "(tensor([[0],\n",
       "         [1],\n",
       "         [2]]),\n",
       " tensor([[0, 1]]))"
      ]
     },
     "execution_count": 18,
     "metadata": {},
     "output_type": "execute_result"
    }
   ],
   "source": [
    "# 广播机制\n",
    "# 在上面的部分中，我们看到了如何在相同形状的两个张量上执行按元素操作。 在某些情况下，即使形状不同，我们仍然可以通过调用 广播机制（broadcasting mechanism）来执行按元素操作。 这种机制的工作方式如下：首先，通过适当复制元素来扩展一个或两个数组， 以便在转换之后，两个张量具有相同的形状。 其次，对生成的数组执行按元素操作。\n",
    "# 当然, 广播机制的条件, 就是运算两端Tensor不同.\n",
    "# 两个Tensor, 需要满足某一维度相同, 或者某一个维度上为1. 即可使用broadcasting mechanism 即广播机制.\n",
    "a = torch.arange(3).reshape(3, 1)\n",
    "b = torch.arange(2).reshape(1, 2)\n",
    "a, b\n",
    "# 显然, a, b形状不同. 此时无法直接做运算, 因此我们需要广播, 所谓广播其实也就是将数组按照一定规律进行复制. 广播后的tensor(multidimensional  array), 形状相同"
   ]
  },
  {
   "cell_type": "code",
   "execution_count": 19,
   "id": "ca2786ca",
   "metadata": {
    "pycharm": {
     "name": "#%%\n"
    }
   },
   "outputs": [
    {
     "data": {
      "text/plain": [
       "tensor([[0, 1],\n",
       "        [1, 2],\n",
       "        [2, 3]])"
      ]
     },
     "execution_count": 19,
     "metadata": {},
     "output_type": "execute_result"
    }
   ],
   "source": [
    "# calculate\n",
    "a + b\n",
    "# 可见, a和b最终的结果就是shape is (3, 2)"
   ]
  },
  {
   "cell_type": "code",
   "execution_count": 20,
   "id": "114e2b6e",
   "metadata": {
    "pycharm": {
     "name": "#%%\n"
    }
   },
   "outputs": [
    {
     "data": {
      "text/plain": [
       "(tensor([ 8.,  9., 10., 11.]),\n",
       " tensor([[ 4.,  5.,  6.,  7.],\n",
       "         [ 8.,  9., 10., 11.]]))"
      ]
     },
     "execution_count": 20,
     "metadata": {},
     "output_type": "execute_result"
    }
   ],
   "source": [
    "# 索引和切片.\n",
    "# 先访问行, 再访问列.\n",
    "X[-1], X[1:3]\n",
    "# 最后一行\n",
    "# index: 1-2行. "
   ]
  },
  {
   "cell_type": "code",
   "execution_count": 27,
   "id": "6cc12bbf",
   "metadata": {
    "pycharm": {
     "name": "#%%\n"
    }
   },
   "outputs": [
    {
     "data": {
      "text/plain": [
       "False"
      ]
     },
     "execution_count": 27,
     "metadata": {},
     "output_type": "execute_result"
    }
   ],
   "source": [
    "# 节省内存: 运行一些操作可能会导致为新结果重新分配内存:\n",
    "before = id(Y)\n",
    "Y = Y + X\n",
    "id(Y) == before\n",
    "# False, 可见, 这种数据操作改变重新复制了Y的引用. "
   ]
  },
  {
   "cell_type": "code",
   "execution_count": 28,
   "id": "f917f111",
   "metadata": {},
   "outputs": [],
   "source": [
    "# 执行原地操作非常简单:\n",
    "Z = torch.zeros_like(Y)\n",
    "print('id(Z):', id(Z))\n",
    "Z[:] = X + Y\n",
    "print('id(Z):', id(Z))"
   ]
  },
  {
   "cell_type": "code",
   "execution_count": null,
   "id": "638a2997",
   "metadata": {},
   "outputs": [],
   "source": []
  }
 ],
 "metadata": {
  "kernelspec": {
   "display_name": "Python 3.9.9 64-bit",
   "language": "python",
   "name": "python3"
  },
  "language_info": {
   "codemirror_mode": {
    "name": "ipython",
    "version": 3
   },
   "file_extension": ".py",
   "mimetype": "text/x-python",
   "name": "python",
   "nbconvert_exporter": "python",
   "pygments_lexer": "ipython3",
   "version": "3.9.9"
  },
  "latex_envs": {
   "LaTeX_envs_menu_present": true,
   "autoclose": false,
   "autocomplete": true,
   "bibliofile": "biblio.bib",
   "cite_by": "apalike",
   "current_citInitial": 1,
   "eqLabelWithNumbers": true,
   "eqNumInitial": 1,
   "hotkeys": {
    "equation": "Ctrl-E",
    "itemize": "Ctrl-I"
   },
   "labels_anchors": false,
   "latex_user_defs": false,
   "report_style_numbering": false,
   "user_envs_cfg": false
  },
  "vscode": {
   "interpreter": {
    "hash": "434a02540723c9bf7d2177dba820b766723d2d66fa9774e1d5a7f7cf55f05f5b"
   }
  }
 },
 "nbformat": 4,
 "nbformat_minor": 5
}
