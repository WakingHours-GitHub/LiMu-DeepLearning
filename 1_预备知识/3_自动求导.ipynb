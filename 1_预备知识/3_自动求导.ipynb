{
 "cells": [
  {
   "cell_type": "code",
   "execution_count": 7,
   "id": "a05f3057",
   "metadata": {
    "pycharm": {
     "name": "#%%\n"
    }
   },
   "outputs": [
    {
     "data": {
      "text/plain": "tensor([0., 1., 2., 3.])"
     },
     "execution_count": 7,
     "metadata": {},
     "output_type": "execute_result"
    }
   ],
   "source": [
    "import torch\n",
    "x = torch.arange(4.0)\n",
    "x # 生成序列"
   ]
  },
  {
   "cell_type": "code",
   "execution_count": 8,
   "id": "72dca49a",
   "metadata": {
    "pycharm": {
     "name": "#%%\n"
    }
   },
   "outputs": [
    {
     "name": "stdout",
     "output_type": "stream",
     "text": [
      "None\n"
     ]
    }
   ],
   "source": [
    "# 然后我们其实应该需要指定一个地方存储梯度，但是我们不会对每个参数求到时都分配空间。\n",
    "# 这样太麻烦了。 我们只需要指定变量需要导数这个参数即可。\n",
    "x.requires_grad_(True)  # 等价于x=torch.arange(4.0,requires_grad=True)\n",
    "print(x.grad) # 默认值是None"
   ]
  },
  {
   "cell_type": "code",
   "execution_count": 9,
   "outputs": [
    {
     "name": "stdout",
     "output_type": "stream",
     "text": [
      "tensor(28., grad_fn=<MulBackward0>)\n"
     ]
    }
   ],
   "source": [
    "# 现在计算y\n",
    "y = 2 * torch.dot(x, x) # x*x点乘, 得到标量\n",
    "print(y) # tensor(28., grad_fn=<MulBackward0>)\n",
    "# 2 * (0 + 1 + 4 + 9)\n",
    "# 得到的y是一个标量。\n",
    "\n",
    "# 然后因为已经使用了requires_grad=True, 因此, 得到, 我们要计算梯度的回调函数。\n",
    "# 隐式的计算图."
   ],
   "metadata": {
    "collapsed": false,
    "pycharm": {
     "name": "#%%\n"
    }
   }
  },
  {
   "cell_type": "code",
   "execution_count": 10,
   "outputs": [
    {
     "data": {
      "text/plain": "tensor([ 0.,  4.,  8., 12.])"
     },
     "execution_count": 10,
     "metadata": {},
     "output_type": "execute_result"
    }
   ],
   "source": [
    "# 调用反向传播函数, 来自动计算y关于x的每个分量的梯度.\n",
    "y.backward() # 反向传播，计算梯度。\n",
    "x.grad # 这样就得到了x的梯度。\n",
    "# y对x求导, 就是y = 2x^2\n",
    "# 因此求导得到的结果就是: 4x\n",
    "# 然后将4x这个结果反向传播给x.\n",
    "\n",
    "# 在grad前面, 一定要有backward. 因为计算梯度是一件很贵的一件事情, 因此只有显示的指定我要计算梯度, 然后向后传播, 这样, pytorch才会计算梯度."
   ],
   "metadata": {
    "collapsed": false,
    "pycharm": {
     "name": "#%%\n"
    }
   }
  },
  {
   "cell_type": "code",
   "execution_count": 11,
   "outputs": [
    {
     "data": {
      "text/plain": "tensor([True, True, True, True])"
     },
     "execution_count": 11,
     "metadata": {},
     "output_type": "execute_result"
    }
   ],
   "source": [
    "x.grad == 4 * x # 默认对Tensor的所有操作, 都是针对元素的操作."
   ],
   "metadata": {
    "collapsed": false,
    "pycharm": {
     "name": "#%%\n"
    }
   }
  },
  {
   "cell_type": "code",
   "execution_count": 14,
   "outputs": [
    {
     "data": {
      "text/plain": "tensor([1., 1., 1., 1.])"
     },
     "execution_count": 14,
     "metadata": {},
     "output_type": "execute_result"
    }
   ],
   "source": [
    "# 默认情况下, PyTorch会累积梯度, 我们需要清除之前的所有值.\n",
    "x.grad.zero_() # tensor([0., 0., 0., 0.])\n",
    "# 函数后面加上_, 在PT中表示原地操作, 也就是这里我直接原地对x的grad进行清零了.\n",
    "y = x.sum()\n",
    "# y = x1 + x2 + ...\n",
    "# 求导, y = 1 + 1 + ...\n",
    "y.backward()\n",
    "x.grad # tensor([1., 1., 1., 1.])"
   ],
   "metadata": {
    "collapsed": false,
    "pycharm": {
     "name": "#%%\n"
    }
   }
  },
  {
   "cell_type": "code",
   "execution_count": 32,
   "outputs": [
    {
     "name": "stdout",
     "output_type": "stream",
     "text": [
      "tensor([0., 1., 4., 9.], grad_fn=<MulBackward0>)\n"
     ]
    },
    {
     "data": {
      "text/plain": "tensor([0., 2., 4., 6.])"
     },
     "execution_count": 32,
     "metadata": {},
     "output_type": "execute_result"
    }
   ],
   "source": [
    "# y不是一个标量的情况下:\n",
    "# 深度学习中, 我们的目的不是计算微分矩阵, 而是批量中每个样本单独计算的偏导数之和.\n",
    "x.grad.zero_()\n",
    "y = x * x # 此时y不是一个标量, 是一个向量\n",
    "print(y) # tensor([0., 1., 4., 9.], grad_fn=<MulBackward0>)\n",
    "# y是一个向量, 如何求导.\n",
    "\n",
    "# 我们很少对于向量进行求导, 大部分情况, 我们使用sum()求和, 再求导. 后面会讲在什么情况下, 会对y进行sum\n",
    "# 等价于y.backward(torch.ones(len(x))\n",
    "y.sum().backward()\n",
    "x.grad"
   ],
   "metadata": {
    "collapsed": false,
    "pycharm": {
     "name": "#%%\n"
    }
   }
  },
  {
   "cell_type": "code",
   "execution_count": 38,
   "outputs": [
    {
     "name": "stdout",
     "output_type": "stream",
     "text": [
      "tensor([0., 1., 4., 9.])\n",
      "tensor([0., 1., 4., 9.])\n",
      "tensor([True, True, True, True])\n"
     ]
    }
   ],
   "source": [
    "# 将某些计算移动到记录的计算图之外.\n",
    "#\n",
    "x.grad.zero_() # empty x grad\n",
    "y = x*x # [0, 1, 4, 9]\n",
    "u = y.detach() # tensor([0., 1., 4., 9.])\n",
    "print(u) # 但是u的require_grad=False, 因此这里u就不再计算图中了, 而是一个常数. 那么\n",
    "# 有时候, 我们想要切断一些分支的反向传播, 就是用detach()\n",
    "# detach()返回一个新的tensor, 从当前计算图分离下来, 但是仍然指向原变量存放的位置. 同时, 该参数的require_grad=False. 也就是不保存梯度.\n",
    "# 后续, 在想要保存网络中一些值的时候, 这是一种很有效的方式.\n",
    "\n",
    "z = u * x # tensor([0., 1., 4., 9.]) * tensor([0., 1., 2., 3.])\n",
    "# z就相当于 常数*x, 求导, 就等于常数, 因此, 就等于u\n",
    "z.sum().backward()\n",
    "# 可见, 实际上,\n",
    "#\n",
    "print(x.grad) # # tensor([0., 1., 4., 9.])\n",
    "print(x.grad == u)"
   ],
   "metadata": {
    "collapsed": false,
    "pycharm": {
     "name": "#%%\n"
    }
   }
  },
  {
   "cell_type": "code",
   "execution_count": 34,
   "outputs": [
    {
     "data": {
      "text/plain": "tensor([0., 2., 4., 6.])"
     },
     "execution_count": 34,
     "metadata": {},
     "output_type": "execute_result"
    }
   ],
   "source": [
    "# 此时, 同样, y还是x的导数, y=x^2\n",
    "x.grad.zero_()\n",
    "y.sum().backward() #\n",
    "x.grad # tensor([0., 2., 4., 6.])"
   ],
   "metadata": {
    "collapsed": false,
    "pycharm": {
     "name": "#%%\n"
    }
   }
  },
  {
   "cell_type": "code",
   "execution_count": 54,
   "outputs": [
    {
     "name": "stdout",
     "output_type": "stream",
     "text": [
      "tensor(-0.2006, requires_grad=True)\n"
     ]
    },
    {
     "data": {
      "text/plain": "tensor(True)"
     },
     "execution_count": 54,
     "metadata": {},
     "output_type": "execute_result"
    }
   ],
   "source": [
    "# 即使构建函数的计算图需要通过python控制流, 我们依然可以计算得到变量的梯度\n",
    "def f(a):\n",
    "    b = a * 2\n",
    "    while b.norm() < 1000: # 范数, 长度.\n",
    "        b = b * 2\n",
    "    if b.sum() > 0:\n",
    "        c = b\n",
    "    else:\n",
    "        c = 100 * b\n",
    "    return c\n",
    "a = torch.randn(size=(), requires_grad=True) # 返回一个符合标准正太分布的随机数.\n",
    "print(a)\n",
    "\n",
    "d = f(a) # 计算计算.\n",
    "d.backward()\n",
    "\n",
    "a.grad == d/a\n"
   ],
   "metadata": {
    "collapsed": false,
    "pycharm": {
     "name": "#%%\n"
    }
   }
  }
 ],
 "metadata": {
  "kernelspec": {
   "display_name": "Python 3 (ipykernel)",
   "language": "python",
   "name": "python3"
  },
  "language_info": {
   "codemirror_mode": {
    "name": "ipython",
    "version": 3
   },
   "file_extension": ".py",
   "mimetype": "text/x-python",
   "name": "python",
   "nbconvert_exporter": "python",
   "pygments_lexer": "ipython3",
   "version": "3.9.9"
  },
  "latex_envs": {
   "LaTeX_envs_menu_present": true,
   "autoclose": false,
   "autocomplete": true,
   "bibliofile": "biblio.bib",
   "cite_by": "apalike",
   "current_citInitial": 1,
   "eqLabelWithNumbers": true,
   "eqNumInitial": 1,
   "hotkeys": {
    "equation": "Ctrl-E",
    "itemize": "Ctrl-I"
   },
   "labels_anchors": false,
   "latex_user_defs": false,
   "report_style_numbering": false,
   "user_envs_cfg": false
  }
 },
 "nbformat": 4,
 "nbformat_minor": 5
}