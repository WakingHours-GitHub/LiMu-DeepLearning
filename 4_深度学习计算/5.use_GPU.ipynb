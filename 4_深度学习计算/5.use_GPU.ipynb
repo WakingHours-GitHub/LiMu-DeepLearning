{
 "cells": [
  {
   "cell_type": "code",
   "execution_count": 19,
   "metadata": {},
   "outputs": [
    {
     "name": "stdout",
     "output_type": "stream",
     "text": [
      "Wed Jul 19 15:21:19 2023       \n",
      "+---------------------------------------------------------------------------------------+\n",
      "| NVIDIA-SMI 535.54.03              Driver Version: 535.54.03    CUDA Version: 12.2     |\n",
      "|-----------------------------------------+----------------------+----------------------+\n",
      "| GPU  Name                 Persistence-M | Bus-Id        Disp.A | Volatile Uncorr. ECC |\n",
      "| Fan  Temp   Perf          Pwr:Usage/Cap |         Memory-Usage | GPU-Util  Compute M. |\n",
      "|                                         |                      |               MIG M. |\n",
      "|=========================================+======================+======================|\n",
      "|   0  NVIDIA GeForce RTX 3090        Off | 00000000:65:00.0  On |                  N/A |\n",
      "| 30%   45C    P8              27W / 350W |   1823MiB / 24576MiB |     12%      Default |\n",
      "|                                         |                      |                  N/A |\n",
      "+-----------------------------------------+----------------------+----------------------+\n",
      "                                                                                         \n",
      "+---------------------------------------------------------------------------------------+\n",
      "| Processes:                                                                            |\n",
      "|  GPU   GI   CI        PID   Type   Process name                            GPU Memory |\n",
      "|        ID   ID                                                             Usage      |\n",
      "|=======================================================================================|\n",
      "|    0   N/A  N/A      3468      G   /usr/lib/xorg/Xorg                          134MiB |\n",
      "|    0   N/A  N/A      3625      G   /usr/bin/gnome-shell                         38MiB |\n",
      "|    0   N/A  N/A    411507      C   /bin/python3                               1332MiB |\n",
      "|    0   N/A  N/A    469020      C   /bin/python3                                300MiB |\n",
      "+---------------------------------------------------------------------------------------+\n"
     ]
    }
   ],
   "source": [
    "!nvidia-smi"
   ]
  },
  {
   "cell_type": "code",
   "execution_count": 20,
   "metadata": {},
   "outputs": [
    {
     "data": {
      "text/plain": [
       "(device(type='cpu'), device(type='cuda'), device(type='cuda', index=0))"
      ]
     },
     "execution_count": 20,
     "metadata": {},
     "output_type": "execute_result"
    }
   ],
   "source": [
    "import torch\n",
    "from torch import nn\n",
    "\n",
    "\n",
    "\n",
    "torch.device(\"cpu\"), torch.device('cuda'), torch.device('cuda:0')"
   ]
  },
  {
   "cell_type": "code",
   "execution_count": 21,
   "metadata": {},
   "outputs": [
    {
     "data": {
      "text/plain": [
       "1"
      ]
     },
     "execution_count": 21,
     "metadata": {},
     "output_type": "execute_result"
    }
   ],
   "source": [
    "torch.cuda.device_count()"
   ]
  },
  {
   "cell_type": "code",
   "execution_count": 22,
   "metadata": {},
   "outputs": [
    {
     "data": {
      "text/plain": [
       "(device(type='cuda', index=0),\n",
       " device(type='cpu'),\n",
       " [device(type='cuda', index=0)])"
      ]
     },
     "execution_count": 22,
     "metadata": {},
     "output_type": "execute_result"
    }
   ],
   "source": [
    "\n",
    "from typing import List\n",
    "\n",
    "def try_gpu(index=0) -> list or torch.device:\n",
    "    if torch.cuda.device_count() >= index+1:\n",
    "        return torch.device(f'cuda:{index}') # 索引是要torch.device的\n",
    "    return torch.device('cpu')\n",
    "        \n",
    "\n",
    "\n",
    "def try_all_gpus() -> List[torch.device] or torch.device:\n",
    "    devices = [torch.device(f\"cuda:{i}\") for i in range(torch.cuda.device_count())]\n",
    "    return devices if devices else torch.device(\"cpu\")\n",
    "\n",
    "\n",
    "        \n",
    "try_gpu(), try_gpu(10), try_all_gpus()\n"
   ]
  },
  {
   "cell_type": "code",
   "execution_count": 23,
   "metadata": {},
   "outputs": [
    {
     "data": {
      "text/plain": [
       "tensor([[1., 1., 1.],\n",
       "        [1., 1., 1.]], device='cuda:0')"
      ]
     },
     "execution_count": 23,
     "metadata": {},
     "output_type": "execute_result"
    }
   ],
   "source": [
    "# 存储在GPU上:\n",
    "X = torch.ones(size=(2, 3), device=try_gpu())\n",
    "\n",
    "X"
   ]
  },
  {
   "cell_type": "code",
   "execution_count": 24,
   "metadata": {},
   "outputs": [
    {
     "name": "stdout",
     "output_type": "stream",
     "text": [
      "tensor([[1., 1., 1.],\n",
      "        [1., 1., 1.]], device='cuda:0')\n",
      "tensor([[1., 1., 1.],\n",
      "        [1., 1., 1.]], device='cuda:0')\n"
     ]
    }
   ],
   "source": [
    "# 如果我们想要计算. 那么我们默认是会在两个变量所在的device上面, 那么我们需要两个变量都在同一个device上面,\n",
    "# 例如都在cpu上面, 或者都在gpu上面, 同时, 如果我们要在gpu上面, 我们也需要保证是同一块GPU. 这跟设备的内存有关.\n",
    "Z = X.cuda(0) # 保存, cuda(num)你可以认为是将一个变量的值从一个内存copy到另一个卡的内存中. 从cuda:0到cuda:1\n",
    "# Z = X.cuda(0)  # 就是从0copy\n",
    "print(X)\n",
    "print(Z)"
   ]
  },
  {
   "cell_type": "code",
   "execution_count": 25,
   "metadata": {},
   "outputs": [
    {
     "data": {
      "text/plain": [
       "tensor([[2., 2., 2.],\n",
       "        [2., 2., 2.]], device='cuda:0')"
      ]
     },
     "execution_count": 25,
     "metadata": {},
     "output_type": "execute_result"
    }
   ],
   "source": [
    "X + Z # 默认就是在X,Z的device上做计算. 得到的结果, 也是写在这个device上\n"
   ]
  },
  {
   "cell_type": "code",
   "execution_count": 29,
   "metadata": {},
   "outputs": [
    {
     "name": "stdout",
     "output_type": "stream",
     "text": [
      "cuda:0\n"
     ]
    }
   ],
   "source": [
    "# 神经网络与GPU\n",
    "net = nn.Sequential(\n",
    "    nn.Linear(3, 1), nn.ReLU()\n",
    ")\n",
    "net.to(device=try_gpu())\n",
    "\n",
    "print(next(iter(net.parameters())).device)\n"
   ]
  },
  {
   "cell_type": "code",
   "execution_count": 36,
   "metadata": {},
   "outputs": [
    {
     "data": {
      "text/plain": [
       "tensor([[0.0000],\n",
       "        [1.3625],\n",
       "        [0.4900],\n",
       "        [1.5682],\n",
       "        [1.1068],\n",
       "        [0.6400],\n",
       "        [0.0000],\n",
       "        [0.3807],\n",
       "        [0.0000],\n",
       "        [0.4515],\n",
       "        [0.0000],\n",
       "        [1.6553],\n",
       "        [0.0379],\n",
       "        [0.9451],\n",
       "        [0.0000],\n",
       "        [0.0000],\n",
       "        [0.7531],\n",
       "        [0.6430],\n",
       "        [0.3887],\n",
       "        [0.3877]], device='cuda:0', grad_fn=<ReluBackward0>)"
      ]
     },
     "execution_count": 36,
     "metadata": {},
     "output_type": "execute_result"
    }
   ],
   "source": [
    "X = torch.randn(size=(20, 3),dtype=torch.float32)\n",
    "X = X.to(0)\n",
    "\n",
    "net(X)"
   ]
  },
  {
   "cell_type": "code",
   "execution_count": null,
   "metadata": {},
   "outputs": [],
   "source": []
  }
 ],
 "metadata": {
  "kernelspec": {
   "display_name": "Python 3",
   "language": "python",
   "name": "python3"
  },
  "language_info": {
   "codemirror_mode": {
    "name": "ipython",
    "version": 3
   },
   "file_extension": ".py",
   "mimetype": "text/x-python",
   "name": "python",
   "nbconvert_exporter": "python",
   "pygments_lexer": "ipython3",
   "version": "3.10.6"
  },
  "orig_nbformat": 4
 },
 "nbformat": 4,
 "nbformat_minor": 2
}
