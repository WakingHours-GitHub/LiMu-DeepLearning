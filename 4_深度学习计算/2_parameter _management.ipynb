{
 "cells": [
  {
   "cell_type": "code",
   "execution_count": 2,
   "metadata": {},
   "outputs": [],
   "source": [
    "# 参数管理: 我们可以通过一些特殊的操作对每层当中的网络当中的参数进行操作\n",
    "# 包括初始化, 访问参数: 用于调试, 诊断和可视化. 以及生成共享层\n"
   ]
  },
  {
   "cell_type": "code",
   "execution_count": 3,
   "metadata": {},
   "outputs": [
    {
     "data": {
      "text/plain": [
       "tensor([[0.3476],\n",
       "        [0.3987]], grad_fn=<AddmmBackward0>)"
      ]
     },
     "execution_count": 3,
     "metadata": {},
     "output_type": "execute_result"
    }
   ],
   "source": [
    "# 我们先来看一些具有单隐藏层的多层感知机.\n",
    "\n",
    "import torch\n",
    "from torch import nn\n",
    "\n",
    "# create Sequential: a sigual MLP (multilayer perceptron )\n",
    "net = nn.Sequential(nn.Linear(4, 8), nn.ReLU(), nn.Linear(8, 1))\n",
    "X = torch.rand(size=(2, 4))\n",
    "output = net(X)\n",
    "\n",
    "output"
   ]
  },
  {
   "cell_type": "code",
   "execution_count": 4,
   "metadata": {},
   "outputs": [
    {
     "name": "stdout",
     "output_type": "stream",
     "text": [
      "Linear(in_features=4, out_features=8, bias=True)\n",
      "OrderedDict([('weight', tensor([[ 0.2835,  0.3174,  0.2537,  0.2204,  0.3396,  0.2397,  0.0625, -0.2372]])), ('bias', tensor([0.2118]))])\n"
     ]
    }
   ],
   "source": [
    "# 参数访问:\n",
    "# 我们可以将Sequential看作一个列表容器, 我们可以通过索引看到其中的各个层的值\n",
    "print(net[0]) # 取出第一层\n",
    "# Linear(in_features=4, out_features=8, bias=True)\n",
    "\n",
    "# 通过state_dict()返回这个层的参数. \n",
    "print(net[2].state_dict())\n",
    "# 返回OrderDict这个数据类型.\n"
   ]
  },
  {
   "cell_type": "code",
   "execution_count": 5,
   "metadata": {},
   "outputs": [
    {
     "name": "stdout",
     "output_type": "stream",
     "text": [
      "<class 'torch.nn.parameter.Parameter'>\n",
      "Parameter containing:\n",
      "tensor([0.2118], requires_grad=True)\n",
      "tensor([0.2118])\n",
      "None\n"
     ]
    }
   ],
   "source": [
    "# 目标参数, \n",
    "# 注意, 其实每个参数都表示为参数类的一个实例, 在torch中就是Parameter类\n",
    "print(type(net[2].bias))\n",
    "print(net[2].bias) # 打印bias的属性, 其中包括data, grad两个方面\n",
    "dir(net[2].bias) # 查看bias的attribute\n",
    "# 通过data取出数据: \n",
    "print(net[2].bias.data) # 就是单独的data\n",
    "# 通过grad取出梯度\n",
    "print(net[2].bias.grad) # None, 因为我们还没backward所以还没有计算梯度. "
   ]
  },
  {
   "cell_type": "code",
   "execution_count": 7,
   "metadata": {},
   "outputs": [
    {
     "data": {
      "text/plain": [
       "True"
      ]
     },
     "execution_count": 7,
     "metadata": {},
     "output_type": "execute_result"
    }
   ],
   "source": [
    "# 访问梯度\n",
    "net[2].weight.grad == None # True\n",
    "# 因为我们还没有进行backward所以还没有计算梯度, 所以grad为None\n"
   ]
  },
  {
   "cell_type": "code",
   "execution_count": 18,
   "metadata": {},
   "outputs": [
    {
     "name": "stdout",
     "output_type": "stream",
     "text": [
      "<generator object Module.named_parameters at 0x7fabcee9e960>\n",
      "('weight', Parameter containing:\n",
      "tensor([[-0.3674,  0.2823, -0.4906, -0.1248],\n",
      "        [-0.0695,  0.3432,  0.2848,  0.2977],\n",
      "        [-0.4307, -0.3135, -0.3763, -0.2644],\n",
      "        [ 0.0667, -0.1957,  0.3242, -0.4479],\n",
      "        [ 0.0710, -0.2038,  0.3748,  0.2906],\n",
      "        [ 0.4225,  0.2881, -0.3994, -0.1932],\n",
      "        [ 0.4537,  0.3247, -0.0122, -0.3674],\n",
      "        [ 0.3074,  0.4083, -0.1229, -0.1153]], requires_grad=True)) ('bias', Parameter containing:\n",
      "tensor([ 0.0159, -0.4975,  0.4451, -0.0991,  0.0323,  0.1748, -0.0334, -0.4812],\n",
      "       requires_grad=True))\n",
      "==================================================\n",
      "('0.weight', Parameter containing:\n",
      "tensor([[-0.3674,  0.2823, -0.4906, -0.1248],\n",
      "        [-0.0695,  0.3432,  0.2848,  0.2977],\n",
      "        [-0.4307, -0.3135, -0.3763, -0.2644],\n",
      "        [ 0.0667, -0.1957,  0.3242, -0.4479],\n",
      "        [ 0.0710, -0.2038,  0.3748,  0.2906],\n",
      "        [ 0.4225,  0.2881, -0.3994, -0.1932],\n",
      "        [ 0.4537,  0.3247, -0.0122, -0.3674],\n",
      "        [ 0.3074,  0.4083, -0.1229, -0.1153]], requires_grad=True)) ('0.bias', Parameter containing:\n",
      "tensor([ 0.0159, -0.4975,  0.4451, -0.0991,  0.0323,  0.1748, -0.0334, -0.4812],\n",
      "       requires_grad=True)) ('2.weight', Parameter containing:\n",
      "tensor([[ 0.2835,  0.3174,  0.2537,  0.2204,  0.3396,  0.2397,  0.0625, -0.2372]],\n",
      "       requires_grad=True)) ('2.bias', Parameter containing:\n",
      "tensor([0.2118], requires_grad=True))\n"
     ]
    }
   ],
   "source": [
    "# 一次性访问所有参数:\n",
    "print(net.named_parameters()) # <generator object Module.named_parameters at 0x7fabcee9d7e0>\n",
    "# 是一个生成器对象, 通过yield返回数值. \n",
    "\n",
    "\n",
    "# 访问net[0]的所有参数:\n",
    "print(*[(name, parm) for name, parm in net[0].named_parameters()])\n",
    "\n",
    "print(\"=\"*50)\n",
    "# 访问net中的所有层, 所有参数:\n",
    "print(*[(name, parm) for name, parm in net.named_parameters()]) # 返回net每层中参数 \n",
    "# *进行解包. \n"
   ]
  },
  {
   "cell_type": "code",
   "execution_count": 20,
   "metadata": {},
   "outputs": [
    {
     "data": {
      "text/plain": [
       "tensor([0.2118])"
      ]
     },
     "execution_count": 20,
     "metadata": {},
     "output_type": "execute_result"
    }
   ],
   "source": [
    "# 因为state_dict()返回的本质是一个字典形式: 所以我们还可以通过key的形式进行访问参数\n",
    "net.state_dict()['2.bias'].data # 通过key来查找"
   ]
  },
  {
   "cell_type": "code",
   "execution_count": 24,
   "metadata": {},
   "outputs": [
    {
     "data": {
      "text/plain": [
       "tensor([[0.0532],\n",
       "        [0.0532]], grad_fn=<AddmmBackward0>)"
      ]
     },
     "execution_count": 24,
     "metadata": {},
     "output_type": "execute_result"
    }
   ],
   "source": [
    "\n",
    "# 现在让我们看看通过add_module添加网络层, 这样我们可以指定每层的名称\n",
    "\n",
    "# 我们先定义black1:\n",
    "\n",
    "\n",
    "def black1() -> nn.Sequential:\n",
    "    return nn.Sequential(\n",
    "        nn.Linear(4, 8), nn.ReLU(),\n",
    "        nn.Linear(8, 4), nn.ReLU()\n",
    "    )\n",
    "\n",
    "# 然后定义black2: \n",
    "def black2() -> nn.Module:\n",
    "    net = nn.Sequential() # definite a container \n",
    "    \n",
    "    for i in range(4):\n",
    "        # 嵌套\n",
    "        net.add_module(f\"black: {i}\", black1())\n",
    "        # 和我们直接在Sequential中定义的唯一区别, 就是这里我们可以执行模型的名字\n",
    "    return net\n",
    "\n",
    "rgnet = nn.Sequential(black2(), nn.Linear(4, 1))\n",
    "rgnet(X)"
   ]
  },
  {
   "cell_type": "code",
   "execution_count": 25,
   "metadata": {},
   "outputs": [
    {
     "name": "stdout",
     "output_type": "stream",
     "text": [
      "Sequential(\n",
      "  (0): Sequential(\n",
      "    (black: 0): Sequential(\n",
      "      (0): Linear(in_features=4, out_features=8, bias=True)\n",
      "      (1): ReLU()\n",
      "      (2): Linear(in_features=8, out_features=4, bias=True)\n",
      "      (3): ReLU()\n",
      "    )\n",
      "    (black: 1): Sequential(\n",
      "      (0): Linear(in_features=4, out_features=8, bias=True)\n",
      "      (1): ReLU()\n",
      "      (2): Linear(in_features=8, out_features=4, bias=True)\n",
      "      (3): ReLU()\n",
      "    )\n",
      "    (black: 2): Sequential(\n",
      "      (0): Linear(in_features=4, out_features=8, bias=True)\n",
      "      (1): ReLU()\n",
      "      (2): Linear(in_features=8, out_features=4, bias=True)\n",
      "      (3): ReLU()\n",
      "    )\n",
      "    (black: 3): Sequential(\n",
      "      (0): Linear(in_features=4, out_features=8, bias=True)\n",
      "      (1): ReLU()\n",
      "      (2): Linear(in_features=8, out_features=4, bias=True)\n",
      "      (3): ReLU()\n",
      "    )\n",
      "  )\n",
      "  (1): Linear(in_features=4, out_features=1, bias=True)\n",
      ")\n"
     ]
    }
   ],
   "source": [
    "# 打印网络结构:\n",
    "print(rgnet)"
   ]
  }
 ],
 "metadata": {
  "kernelspec": {
   "display_name": "Python 3.10.6 64-bit",
   "language": "python",
   "name": "python3"
  },
  "language_info": {
   "codemirror_mode": {
    "name": "ipython",
    "version": 3
   },
   "file_extension": ".py",
   "mimetype": "text/x-python",
   "name": "python",
   "nbconvert_exporter": "python",
   "pygments_lexer": "ipython3",
   "version": "3.10.6"
  },
  "orig_nbformat": 4,
  "vscode": {
   "interpreter": {
    "hash": "916dbcbb3f70747c44a77c7bcd40155683ae19c65e1c03b4aa3499c5328201f1"
   }
  }
 },
 "nbformat": 4,
 "nbformat_minor": 2
}
